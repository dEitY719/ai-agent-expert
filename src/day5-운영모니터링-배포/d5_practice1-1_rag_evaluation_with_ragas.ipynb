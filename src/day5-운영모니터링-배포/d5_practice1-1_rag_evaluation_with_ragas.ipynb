{
 "cells": [
  {
   "cell_type": "markdown",
   "id": "a815e8a2",
   "metadata": {
    "id": "a815e8a2"
   },
   "source": [
    "# `Naive RAG`, `Advanced RAG` 구현 코드\n",
    "\n",
    "### 실습 목표\n",
    "Naive RAG와 Re-ranker를 도입한 Advanced RAG를 구축할 수 있습니다. 두 파이프라인의 응답 결과를 직관적으로 비교하며, 정량적 평가의 필요성을 체감합니다."
   ]
  },
  {
   "cell_type": "markdown",
   "id": "f5170bfb",
   "metadata": {
    "id": "f5170bfb"
   },
   "source": [
    "## 1. 환경 설정\n",
    "필요한 라이브러리를 설치하고 불러옵니다."
   ]
  },
  {
   "cell_type": "code",
   "execution_count": null,
   "id": "343ee6c5",
   "metadata": {
    "id": "343ee6c5"
   },
   "outputs": [],
   "source": [
    "import os\n",
    "import getpass\n",
    "import requests\n",
    "\n",
    "# LangChain 관련 라이브러리\n",
    "# PDF 로더를 위해 PyPDFLoader를 추가합니다.\n",
    "from langchain_community.document_loaders import PyPDFLoader\n",
    "from langchain_community.vectorstores import FAISS\n",
    "from langchain_community.cross_encoders import HuggingFaceCrossEncoder\n",
    "from langchain_core.output_parsers import StrOutputParser\n",
    "from langchain_core.prompts import ChatPromptTemplate\n",
    "from langchain_core.runnables import RunnablePassthrough\n",
    "from langchain_openai import ChatOpenAI\n",
    "from langchain.embeddings import HuggingFaceEmbeddings\n",
    "from langchain.text_splitter import RecursiveCharacterTextSplitter\n",
    "from langchain.retrievers import ContextualCompressionRetriever\n",
    "from langchain.retrievers.document_compressors import CrossEncoderReranker\n",
    "from langchain.chains.combine_documents import create_stuff_documents_chain"
   ]
  },
  {
   "cell_type": "code",
   "execution_count": null,
   "id": "f7dcf4d1",
   "metadata": {
    "id": "f7dcf4d1"
   },
   "outputs": [],
   "source": [
    "# API 키 설정\n",
    "os.environ[\"OPENAI_API_KEY\"] = getpass.getpass(\"OpenAI API Key: \")"
   ]
  },
  {
   "cell_type": "markdown",
   "id": "6a803723",
   "metadata": {
    "id": "6a803723"
   },
   "source": [
    "## 1. 샘플 문서 로드\n",
    "비교를 위해 의미 있는 내용이 충분히 담긴 문서를 로드합니다.  \n",
    "여기서는 **한국지능정보사회진흥원**의 AI국가전략 보고서 중 \"전국민 AI 일상화 실행 계획\"을 사용하겠습니다.\n",
    " - https://www.nia.or.kr/site/nia_kor/ex/bbs/View.do?cbIdx=99952&bcIdx=27378&parentSeq=27378"
   ]
  },
  {
   "cell_type": "code",
   "execution_count": null,
   "id": "B4_e0MgrjlaF",
   "metadata": {
    "colab": {
     "base_uri": "https://localhost:8080/"
    },
    "id": "B4_e0MgrjlaF",
    "outputId": "f90baff3-c02a-43aa-f630-75057a8243aa"
   },
   "outputs": [],
   "source": [
    "loader = PyPDFLoader(\"./National_AI_Plan.pdf\")\n",
    "documents = loader.load()\n",
    "\n",
    "## 문서를 잘 읽고 있는지 페이지를 달리하면서, 확인해보세요\n",
    "print(documents[15].page_content[:500])"
   ]
  },
  {
   "cell_type": "code",
   "execution_count": null,
   "id": "34dba45c",
   "metadata": {
    "colab": {
     "base_uri": "https://localhost:8080/"
    },
    "id": "34dba45c",
    "outputId": "28764145-508a-46a2-b902-33e02651c93d"
   },
   "outputs": [],
   "source": [
    "# 문서 분할\n",
    "text_splitter = RecursiveCharacterTextSplitter(chunk_size=1000, chunk_overlap=150)\n",
    "docs = text_splitter.split_documents(documents)\n",
    "\n",
    "print(f\"총 문서 개수: {len(docs)}\")"
   ]
  },
  {
   "cell_type": "markdown",
   "id": "A9J548IVFI3g",
   "metadata": {
    "id": "A9J548IVFI3g"
   },
   "source": [
    "## 2. 공통 컴포넌트 준비\n",
    "Naive RAG와 Advanced RAG에서 공통으로 사용할 LLM, 임베딩 모델, 프롬프트 템플릿을 정의합니다."
   ]
  },
  {
   "cell_type": "code",
   "execution_count": null,
   "id": "MV3x6tk_FiEP",
   "metadata": {
    "id": "MV3x6tk_FiEP"
   },
   "outputs": [],
   "source": [
    "# LLM 초기화\n",
    "llm = ChatOpenAI(model_name=\"gpt-4o-mini\", temperature=0)"
   ]
  },
  {
   "cell_type": "code",
   "execution_count": null,
   "id": "53317c70",
   "metadata": {},
   "outputs": [],
   "source": [
    "from langchain_openai import OpenAIEmbeddings\n",
    "\n",
    "embeddings = OpenAIEmbeddings(\n",
    "    model=\"text-embedding-3-small\",\n",
    ")"
   ]
  },
  {
   "cell_type": "code",
   "execution_count": null,
   "id": "tkWOZNPTFodw",
   "metadata": {
    "colab": {
     "base_uri": "https://localhost:8080/"
    },
    "id": "tkWOZNPTFodw",
    "outputId": "ff90854a-113c-4b87-fb50-1786b5c6bb69"
   },
   "outputs": [],
   "source": [
    "prompt_template = \"\"\"\n",
    "당신은 주어진 문맥(context)를 사용하여 사용자의 질문에 답변하는 AI 어시스턴트입니다.\n",
    "문맥은 '전국민 AI 일상화 실행 계획' 보고서의 일부입니다.\n",
    "절대로 문맥에 없는 내용을 지어내서 답변하면 안 됩니다. 문맥에서 답을 찾을 수 없다면 \"문맥에서 관련 정보를 찾을 수 없습니다.\"라고 답변하세요.\n",
    "\n",
    "[문맥]\n",
    "{context}\n",
    "\n",
    "[질문]\n",
    "{question}\n",
    "\n",
    "[답변]\n",
    "\"\"\"\n",
    "prompt = ChatPromptTemplate.from_template(prompt_template)\n",
    "\n",
    "Test_query = \"정보통신전략위원회는 어떤 역할을 하나요?\"\n",
    "\n",
    "print(\"--- 공통 컴포넌트(LLM, Embedding, Prompt, Test_query) 준비 완료 ---\")"
   ]
  },
  {
   "cell_type": "markdown",
   "id": "8208db39",
   "metadata": {
    "id": "8208db39"
   },
   "source": [
    "## [TODO] 3. 기본 RAG 구현 (Naive RAG)\n",
    "가장 기본적인 RAG 체인을 구현합니다. `검색(Retrieve) -> 생성(Generate)`의 단순한 구조입니다.  \n",
    "\n",
    "빈 칸을 채워주세요"
   ]
  },
  {
   "cell_type": "code",
   "execution_count": null,
   "id": "4539cc3f",
   "metadata": {
    "colab": {
     "base_uri": "https://localhost:8080/"
    },
    "id": "4539cc3f",
    "outputId": "b40f2f6d-1302-4340-d427-c918f14f7d9f"
   },
   "outputs": [],
   "source": [
    "# FAISS 벡터 스토어 생성\n",
    "naive_vectorstore = # [YOUR CODE]\n",
    "\n",
    "# 기본 검색기 생성 (k=10)\n",
    "naive_retriever = # [YOUR CODE]\n",
    "\n",
    "# Document Chain 생성\n",
    "naive_chain = # [YOUR CODE]\n",
    "\n",
    "# Naive RAG 체인 구성 (파이프라인 방식)\n",
    "naive_rag_chain = (\n",
    "    # [YOUR CODE]\n",
    ")\n",
    "\n",
    "def naive_rag(query):\n",
    "    \"\"\"기본 RAG 체인으로 답변을 생성합니다.\"\"\"\n",
    "    result = naive_rag_chain.invoke(query)\n",
    "    return result"
   ]
  },
  {
   "cell_type": "markdown",
   "id": "39eed0ea",
   "metadata": {
    "id": "39eed0ea"
   },
   "source": [
    "테스트 쿼리를 실행해 Naive RAG의 작동을 확인합니다."
   ]
  },
  {
   "cell_type": "code",
   "execution_count": null,
   "id": "66a18c44",
   "metadata": {
    "colab": {
     "base_uri": "https://localhost:8080/"
    },
    "collapsed": true,
    "id": "66a18c44",
    "outputId": "77801cd5-5506-4dea-b274-a3c86543ccd9"
   },
   "outputs": [],
   "source": [
    "# Naive RAG 실행\n",
    "print(\"Test_query: \", Test_query)\n",
    "print(\"=\" * 75)\n",
    "print(\"Naive RAG 답변:\")\n",
    "print(naive_rag(Test_query))"
   ]
  },
  {
   "cell_type": "markdown",
   "id": "e7b9e368",
   "metadata": {
    "id": "e7b9e368"
   },
   "source": [
    "## [TODO] 4. Advanced RAG 구현\n",
    "Reranking은 초기 검색 결과를 더 정교한 방법으로 재평가하여 문서 관련성을 재정렬하는 기법입니다. 여기서는 BERT 기반 Cross-Encoder를 활용한 Reranker를 구현합니다."
   ]
  },
  {
   "cell_type": "code",
   "execution_count": null,
   "id": "2c4990fc",
   "metadata": {
    "colab": {
     "base_uri": "https://localhost:8080/"
    },
    "id": "2c4990fc",
    "outputId": "f7b317d5-6f97-4067-a5f9-0086fd3ff610"
   },
   "outputs": [],
   "source": [
    "# FAISS 벡터 스토어 생성\n",
    "advanced_vectorstore = # [YOUR CODE]\n",
    "# Document Chain 생성\n",
    "document_chain = # [YOUR CODE]\n",
    "\n",
    "# Cross-Encoder Reranker 구현\n",
    "cross_encoder = HuggingFaceCrossEncoder(model_name=\"BAAI/bge-reranker-v2-m3\")\n",
    "reranker = CrossEncoderReranker(model=cross_encoder, top_n=5)\n",
    "\n",
    "# Reranking 검색기 생성\n",
    "reranking_retriever = ContextualCompressionRetriever(\n",
    "    base_retriever=advanced_vectorstore.as_retriever(search_kwargs={\"k\": 10}),\n",
    "    base_compressor=reranker\n",
    ")\n",
    "\n",
    "# Reranking RAG 체인 구성\n",
    "reranking_rag_chain = (\n",
    "    # [YOUR CODE]\n",
    ")\n",
    "\n",
    "def reranking_rag(query):\n",
    "    \"\"\"Reranking을 적용한 RAG 체인으로 답변을 생성합니다.\"\"\"\n",
    "    result = reranking_rag_chain.invoke(query)\n",
    "    return result"
   ]
  },
  {
   "cell_type": "markdown",
   "id": "V3YSXiVwJP6T",
   "metadata": {
    "id": "V3YSXiVwJP6T"
   },
   "source": [
    "테스트 쿼리를 실행해 Advanced RAG의 작동을 확인합니다."
   ]
  },
  {
   "cell_type": "code",
   "execution_count": null,
   "id": "d2c46430",
   "metadata": {
    "colab": {
     "base_uri": "https://localhost:8080/"
    },
    "collapsed": true,
    "id": "d2c46430",
    "outputId": "e714bb82-45f2-4c54-d9ee-e6596c18c99d"
   },
   "outputs": [],
   "source": [
    "# 테스트 쿼리로 문서 검색\n",
    "retrieved_docs = advanced_vectorstore.similarity_search(Test_query, k=10)\n",
    "\n",
    "\n",
    "# Cross-Encoder 점수 계산\n",
    "def get_cross_encoder_scores(query, docs):\n",
    "    \"\"\"Cross-Encoder를 사용해 문서의 관련성 점수를 계산합니다.\"\"\"\n",
    "    text_pairs = [(query, doc.page_content) for doc in docs]\n",
    "    scores = cross_encoder.score(text_pairs)\n",
    "    return list(zip(docs, scores))\n",
    "\n",
    "\n",
    "# 원본 검색 결과와 Reranker 적용 결과 비교\n",
    "reranked_docs = reranker.compress_documents(retrieved_docs, Test_query)\n",
    "\n",
    "print(\"원본 검색 결과:\")\n",
    "for i, doc in enumerate(retrieved_docs):\n",
    "    print(f\"\\n문서 {i+1}: {doc.page_content[:150]}...\")\n",
    "\n",
    "docs_with_scores = get_cross_encoder_scores(Test_query, retrieved_docs)\n",
    "docs_with_scores.sort(key=lambda x: x[1], reverse=True)\n",
    "\n",
    "print(\"=\" * 75)\n",
    "\n",
    "print(\"\\nCross-Encoder 점수로 재정렬된 결과 (상위 5개):\")\n",
    "for i, (doc, score) in enumerate(docs_with_scores[:5]):\n",
    "    print(f\"\\n문서 {i+1} (점수: {score:.4f}): {doc.page_content[:150]}...\")"
   ]
  },
  {
   "cell_type": "code",
   "execution_count": null,
   "id": "47IY_yzEIF-b",
   "metadata": {
    "colab": {
     "base_uri": "https://localhost:8080/"
    },
    "id": "47IY_yzEIF-b",
    "outputId": "1f06622c-f48d-4a46-8892-6022587a1128"
   },
   "outputs": [],
   "source": [
    "# Reranking RAG 실행\n",
    "print(\"Test_query: \", Test_query)\n",
    "print(\"=\" * 75)\n",
    "print(\"\\nReranking RAG 답변:\")\n",
    "print(reranking_rag(Test_query))"
   ]
  },
  {
   "cell_type": "markdown",
   "id": "IQB7HfBbJmsq",
   "metadata": {
    "id": "IQB7HfBbJmsq"
   },
   "source": [
    "## 5. Naive RAG vs Advanced RAG 실행 및 비교\n",
    "동일한 질문에 대해 두 RAG 파이프라인이 어떻게 다른 답변을 생성하는지 비교해봅니다. 보고서의 핵심 내용을 잘 요약하는지 확인해보세요."
   ]
  },
  {
   "cell_type": "code",
   "execution_count": null,
   "id": "CC3HSJq6Jq5o",
   "metadata": {
    "id": "CC3HSJq6Jq5o"
   },
   "outputs": [],
   "source": [
    "query = \"보고서에 언급된 '전국민 AI 일상화'를 위한 3대 추진 전략과 각각의 핵심 과제는 무엇인가요?\""
   ]
  },
  {
   "cell_type": "code",
   "execution_count": null,
   "id": "B4j3P5aIJ6Ad",
   "metadata": {
    "colab": {
     "base_uri": "https://localhost:8080/"
    },
    "id": "B4j3P5aIJ6Ad",
    "outputId": "da494232-0e59-46e6-cbb2-5b5feb26d8f4"
   },
   "outputs": [],
   "source": [
    "print(f\"질문 : {query}\")\n",
    "print(\"=\" * 50)\n",
    "\n",
    "# Naive RAG 실행\n",
    "print(\"Naive RAG 답변 생성!\")\n",
    "naive_answer = naive_rag(query)\n",
    "print(f\"\\n Naive RAG 답변 : \\n{naive_answer}\")\n",
    "print(\"=\" * 50)\n",
    "\n",
    "# Reranking RAG 실행\n",
    "print(\"Reranking RAG 답변 생성!\")\n",
    "reranking_answer = reranking_rag(query)\n",
    "print(f\"\\n Naive RAG 답변 : \\n{reranking_answer}\")"
   ]
  },
  {
   "cell_type": "markdown",
   "id": "_uw-Dy7YUrCd",
   "metadata": {
    "id": "_uw-Dy7YUrCd"
   },
   "source": [
    "# 평가 자동화 프레임워크 : RAGAS\n",
    "\n",
    "### 실습 목표\n",
    "구축한 Naive RAG와 Advanced RAG 시스템의 성능을 RAGAS 프레임워크를 사용하여 정량적으로 측정하고, 객관적인 지표로 비교 분석하는 능력을 기릅니다.\n",
    "\n",
    "https://docs.ragas.io/en/stable/concepts/metrics/available_metrics/\n"
   ]
  },
  {
   "cell_type": "markdown",
   "id": "bkc9XEe-YHu8",
   "metadata": {
    "id": "bkc9XEe-YHu8"
   },
   "source": [
    "## 1. 환경 설정\n",
    "필요한 라이브러리를 불러옵니다."
   ]
  },
  {
   "cell_type": "code",
   "execution_count": null,
   "id": "AixGIaw8YMr-",
   "metadata": {
    "id": "AixGIaw8YMr-"
   },
   "outputs": [],
   "source": [
    "import pandas as pd\n",
    "import matplotlib.pyplot as plt\n",
    "import seaborn as sns\n",
    "from datasets import Dataset\n",
    "from ragas import evaluate\n",
    "from ragas.metrics import (\n",
    "    faithfulness,\n",
    "    answer_relevancy,\n",
    "    context_recall,\n",
    "    context_precision,\n",
    ")"
   ]
  },
  {
   "cell_type": "markdown",
   "id": "siMv3ajcYM0S",
   "metadata": {
    "id": "siMv3ajcYM0S"
   },
   "source": [
    "## 2. RAGAS 평가를 위한 데이터셋 준비\n",
    "- RAGAS 평가에 사용할 질문-정답 쌍을 정의합니다.\n",
    "- 이 질문과 정답은 '전국민 AI 일상화 실행 계획' 보고서 내용을 기반으로 직접 작성해야 합니다.\n",
    "- 최소 5~10개 이상의 질문-정답 쌍을 만드는 것을 권장합니다."
   ]
  },
  {
   "cell_type": "code",
   "execution_count": null,
   "id": "ap1orVf7X4E5",
   "metadata": {
    "id": "ap1orVf7X4E5"
   },
   "outputs": [],
   "source": [
    "eval_data = {\n",
    "    \"question\": [\n",
    "        \"전국민 AI 일상화 실행 계획의 주요 목표는 무엇인가요?\",\n",
    "        \"AI 일상화 계획에서 초거대 AI 확산 지원을 위해 어떤 방안을 추진하고 있나요?\",\n",
    "        \"AI 친화적인 디지털 교육 환경을 구축하기 위한 계획은 무엇인가요?\",\n",
    "        \"시니어 및 소상공인을 위한 AI 활용 지원 방안에는 어떤 것들이 포함되나요?\",\n",
    "        \"AI 기술을 활용한 사회 문제 해결 분야의 주요 과제는 무엇인가요?\",\n",
    "        # 여기에 보고서 내용을 기반으로 더 많은 질문을 추가하세요.\n",
    "        # 예: \"AI 서비스 활용 역량을 강화하기 위한 국민 참여 프로그램에는 어떤 것이 있나요?\"\n",
    "        # 예: \"초거대 AI 기술을 공공 서비스에 적용하는 사례는 무엇인가요?\"\n",
    "    ],\n",
    "    \"ground_truth\": [\n",
    "        \"전국민 AI 일상화 실행 계획의 주요 목표는 누구나 일상 속에서 AI 혜택을 누리는 'AI 일상화 시대'를 구현하고, AI를 활용하여 국가 전반의 생산성을 높이는 것입니다.\",\n",
    "        \"초거대 AI 확산 지원을 위해 AI 인프라 확충, 초거대 AI 기반 서비스 개발 지원, AI 전문기업 육성 등을 추진하고 있습니다.\",\n",
    "        \"AI 친화적인 디지털 교육 환경 구축을 위해 유아부터 성인까지 전 국민 대상의 AI 교육 기회를 확대하고, 교육 콘텐츠 및 플랫폼을 개발하며, AI 전문 강사를 양성할 계획입니다.\",\n",
    "        \"시니어 및 소상공인을 위한 AI 활용 지원 방안에는 AI 기반 돌봄 서비스 제공, 소상공인 AI 비서 및 챗봇 도입 지원, AI 기반 생산성 향상 도구 보급 등이 포함됩니다.\",\n",
    "        \"AI 기술을 활용한 사회 문제 해결 분야의 주요 과제는 국민 안전 및 건강 증진, 사회적 약자 지원, 환경 문제 해결 등 다양한 분야에서 AI 기반 솔루션을 도입하고 확산하는 것입니다.\",\n",
    "        # 여기에 각 질문에 대한 정확한 '정답'을 직접 작성하세요.\n",
    "    ],\n",
    "}\n",
    "eval_df = pd.DataFrame(eval_data)"
   ]
  },
  {
   "cell_type": "markdown",
   "id": "Ol2mUSkKncMY",
   "metadata": {
    "id": "Ol2mUSkKncMY"
   },
   "source": [
    "## Naive RAG 시스템 평가\n",
    "- RAGAS 평가에 필요한 'contexts' 및 'answer' 필드 채우기\n",
    "- 각 질문에 대해 Naive RAG 시스템을 실행하고 결과 저장"
   ]
  },
  {
   "cell_type": "code",
   "execution_count": null,
   "id": "Mn1uM3mvVEU-",
   "metadata": {
    "colab": {
     "base_uri": "https://localhost:8080/",
     "height": 1000,
     "referenced_widgets": [
      "2227689b4748444bb42b7e104fda97e4",
      "8a9387dab3cf44369347fe2e64fcd783",
      "5133feb8a9264100b5313330017bbc6c",
      "7114bb5244824099961801c80f2733dc",
      "cd5e41e4e15a4a8bb28ca93ea992ee2c",
      "0969a05ffc414998a8f0b7739d4e9132",
      "ef0d2656dcfc44df9ad4c8dde41ed957",
      "517d130d254b4af49a90eecc73daf326",
      "aaeabb8375a841e099b7e14a885d7d77",
      "46426a3b7bec4d98ae97fe9597ae2ad9",
      "3ab6ef4c37874fb0afba02bb34bf19bb"
     ]
    },
    "collapsed": true,
    "id": "Mn1uM3mvVEU-",
    "outputId": "70f662b3-555a-458c-b12c-e63175590584"
   },
   "outputs": [],
   "source": [
    "print(\"--- Naive RAG 시스템 평가 시작 ---\")\n",
    "\n",
    "naive_results = []\n",
    "for i, row in eval_df.iterrows():\n",
    "    question = row[\"question\"]\n",
    "    # Naive RAG의 답변 생성\n",
    "    answer = naive_rag(question)\n",
    "\n",
    "    # Naive RAG의 컨텍스트 검색\n",
    "    retrieved_docs = naive_retriever.invoke(question)\n",
    "    contexts = [doc.page_content for doc in retrieved_docs]\n",
    "\n",
    "    naive_results.append(\n",
    "        {\"question\": question, \"answer\": answer, \"contexts\": contexts, \"ground_truth\": row[\"ground_truth\"]}\n",
    "    )\n",
    "\n",
    "naive_dataset = Dataset.from_list(naive_results)\n",
    "\n",
    "# Naive RAG 평가 실행\n",
    "naive_metrics = [faithfulness, answer_relevancy, context_recall, context_precision]\n",
    "\n",
    "naive_eval_result = evaluate(\n",
    "    dataset=naive_dataset,\n",
    "    metrics=naive_metrics,\n",
    "    llm=llm,  # RAGAS 평가를 위한 LLM\n",
    "    embeddings=embeddings,  # RAGAS 평가를 위한 임베딩 모델\n",
    ")\n",
    "\n",
    "print(\"\\n--- Naive RAG 평가 결과 ---\")\n",
    "print(naive_eval_result)\n",
    "print(naive_eval_result.to_pandas())"
   ]
  },
  {
   "cell_type": "markdown",
   "id": "s_J4jfmhnp9u",
   "metadata": {
    "id": "s_J4jfmhnp9u"
   },
   "source": [
    "## [TODO] Advanced RAG 시스템 평가\n",
    "- RAGAS 평가에 필요한 'contexts' 및 'answer' 필드 채우기\n",
    "- 각 질문에 대해 Advanced RAG 시스템을 실행하고 결과 저장\n",
    "  \n",
    "빈 칸을 채워주세요"
   ]
  },
  {
   "cell_type": "code",
   "execution_count": null,
   "id": "iZYdnqpCXRv2",
   "metadata": {
    "colab": {
     "base_uri": "https://localhost:8080/",
     "height": 1000,
     "referenced_widgets": [
      "307b58c3b940406288e17a46e1bd8859",
      "17b2a70eab734fc0b67df8b9b2613afd",
      "cae50d1c13f84187ac095cfc44db6b94",
      "939b1ef5dcdd46be99b45f65b1e5ae5d",
      "145ce6cf449c4c8bab7a2807483a82b4",
      "0d35efe01db347c89f0954b0ca083cf3",
      "da50f098b9d240eab7158d31527a2274",
      "a63761a22618484abaedc7a5ac5c604a",
      "39a18301205640678537b17f27acee34",
      "0eccd8c718da4e408a46cde3e43c25c1",
      "803dea7f80f4416fb7c00ddeee494ea3"
     ]
    },
    "collapsed": true,
    "id": "iZYdnqpCXRv2",
    "outputId": "9d048905-d91f-4a8d-82a7-7d9ec894838d"
   },
   "outputs": [],
   "source": [
    "print(\"\\n--- Advanced RAG 시스템 평가 시작 ---\")\n",
    "\n",
    "advanced_results = []\n",
    "for i, row in eval_df.iterrows():\n",
    "    question = row[\"question\"]\n",
    "    # Advanced RAG의 답변 생성\n",
    "    answer = # [YOUR CODE]\n",
    "\n",
    "    # Advanced RAG의 컨텍스트 검색 (reranking_retriever는 압축된 컨텍스트를 반환)\n",
    "    # RAGAS는 원본 컨텍스트를 필요로 할 수 있으므로, reranking_retriever가 반환하는 내용을 확인하세요.\n",
    "    # 여기서는 reranking_retriever가 최종적으로 선택한 문서를 반환한다고 가정합니다.\n",
    "    retrieved_docs_advanced = reranking_retriever.invoke(question)\n",
    "    contexts_advanced = [doc.page_content for doc in retrieved_docs_advanced]\n",
    "\n",
    "    advanced_results.append({\n",
    "        \"question\": # [YOUR CODE],\n",
    "        \"answer\": # [YOUR CODE],\n",
    "        \"contexts\": # [YOUR CODE],\n",
    "        \"ground_truth\": row[\"ground_truth\"]\n",
    "    })\n",
    "\n",
    "advanced_dataset = Dataset.from_list(advanced_results)\n",
    "\n",
    "# Advanced RAG 평가 실행\n",
    "advanced_metrics = [\n",
    "    faithfulness,\n",
    "    answer_relevancy,\n",
    "    context_recall,\n",
    "    context_precision\n",
    "]\n",
    "\n",
    "advanced_eval_result = evaluate(\n",
    "    dataset= # [YOUR CODE],\n",
    "    metrics= # [YOUR CODE],\n",
    "    llm=llm, # RAGAS 평가를 위한 LLM\n",
    "    embeddings=embeddings, # RAGAS 평가를 위한 임베딩 모델\n",
    "    # is_html_report=True # HTML 리포트 생성\n",
    ")\n",
    "\n",
    "print(\"\\n--- Advanced RAG 평가 결과 ---\")\n",
    "print(advanced_eval_result)\n",
    "print(advanced_eval_result.to_pandas())"
   ]
  },
  {
   "cell_type": "markdown",
   "id": "GQ0L346xn7da",
   "metadata": {
    "id": "GQ0L346xn7da"
   },
   "source": [
    "## 평가 결과 비교"
   ]
  },
  {
   "cell_type": "code",
   "execution_count": null,
   "id": "iRgpBcHsXTxV",
   "metadata": {
    "colab": {
     "base_uri": "https://localhost:8080/"
    },
    "id": "iRgpBcHsXTxV",
    "outputId": "44a0bb3a-1d28-4857-b38f-d72f556e6b4e"
   },
   "outputs": [],
   "source": [
    "print(\"\\n--- RAG 시스템 성능 비교 ---\")\n",
    "naive_df = naive_eval_result.to_pandas()\n",
    "advanced_df = advanced_eval_result.to_pandas()\n",
    "\n",
    "comparison_df = pd.DataFrame(\n",
    "    {\n",
    "        \"Metric\": [\"faithfulness\", \"answer_relevancy\", \"context_recall\", \"context_precision\"],\n",
    "        \"Naive RAG\": [\n",
    "            naive_df[\"faithfulness\"].mean(),\n",
    "            naive_df[\"answer_relevancy\"].mean(),\n",
    "            naive_df[\"context_recall\"].mean(),\n",
    "            naive_df[\"context_precision\"].mean(),\n",
    "        ],\n",
    "        \"Advanced RAG\": [\n",
    "            advanced_df[\"faithfulness\"].mean(),\n",
    "            advanced_df[\"answer_relevancy\"].mean(),\n",
    "            advanced_df[\"context_recall\"].mean(),\n",
    "            advanced_df[\"context_precision\"].mean(),\n",
    "        ],\n",
    "    }\n",
    ")\n",
    "\n",
    "print(comparison_df)"
   ]
  },
  {
   "cell_type": "code",
   "execution_count": null,
   "id": "l_9VlYKwXXLJ",
   "metadata": {
    "colab": {
     "base_uri": "https://localhost:8080/",
     "height": 607
    },
    "id": "l_9VlYKwXXLJ",
    "outputId": "dcd7533a-d5e4-4f73-8b49-723b3a03ce29"
   },
   "outputs": [],
   "source": [
    "comparison_df.set_index(\"Metric\").plot(kind=\"bar\", figsize=(10, 6))\n",
    "plt.title(\"RAG System Performance Comparison\")\n",
    "plt.ylabel(\"Score\")\n",
    "plt.ylim(0, 1)\n",
    "plt.xticks(rotation=45, ha=\"right\")\n",
    "plt.legend(title=\"RAG System\")\n",
    "plt.tight_layout()\n",
    "plt.show()"
   ]
  }
 ],
 "metadata": {
  "colab": {
   "collapsed_sections": [
    "6a803723",
    "A9J548IVFI3g",
    "8208db39",
    "e7b9e368",
    "IQB7HfBbJmsq",
    "_uw-Dy7YUrCd",
    "bkc9XEe-YHu8",
    "siMv3ajcYM0S",
    "Ol2mUSkKncMY",
    "s_J4jfmhnp9u",
    "GQ0L346xn7da"
   ],
   "provenance": []
  },
  "kernelspec": {
   "display_name": "Python 3 (ipykernel)",
   "language": "python",
   "name": "python3"
  },
  "language_info": {
   "codemirror_mode": {
    "name": "ipython",
    "version": 3
   },
   "file_extension": ".py",
   "mimetype": "text/x-python",
   "name": "python",
   "nbconvert_exporter": "python",
   "pygments_lexer": "ipython3",
   "version": "3.10.14"
  },
  "widgets": {
   "application/vnd.jupyter.widget-state+json": {
    "0969a05ffc414998a8f0b7739d4e9132": {
     "model_module": "@jupyter-widgets/base",
     "model_module_version": "1.2.0",
     "model_name": "LayoutModel",
     "state": {
      "_model_module": "@jupyter-widgets/base",
      "_model_module_version": "1.2.0",
      "_model_name": "LayoutModel",
      "_view_count": null,
      "_view_module": "@jupyter-widgets/base",
      "_view_module_version": "1.2.0",
      "_view_name": "LayoutView",
      "align_content": null,
      "align_items": null,
      "align_self": null,
      "border": null,
      "bottom": null,
      "display": null,
      "flex": null,
      "flex_flow": null,
      "grid_area": null,
      "grid_auto_columns": null,
      "grid_auto_flow": null,
      "grid_auto_rows": null,
      "grid_column": null,
      "grid_gap": null,
      "grid_row": null,
      "grid_template_areas": null,
      "grid_template_columns": null,
      "grid_template_rows": null,
      "height": null,
      "justify_content": null,
      "justify_items": null,
      "left": null,
      "margin": null,
      "max_height": null,
      "max_width": null,
      "min_height": null,
      "min_width": null,
      "object_fit": null,
      "object_position": null,
      "order": null,
      "overflow": null,
      "overflow_x": null,
      "overflow_y": null,
      "padding": null,
      "right": null,
      "top": null,
      "visibility": null,
      "width": null
     }
    },
    "0d35efe01db347c89f0954b0ca083cf3": {
     "model_module": "@jupyter-widgets/base",
     "model_module_version": "1.2.0",
     "model_name": "LayoutModel",
     "state": {
      "_model_module": "@jupyter-widgets/base",
      "_model_module_version": "1.2.0",
      "_model_name": "LayoutModel",
      "_view_count": null,
      "_view_module": "@jupyter-widgets/base",
      "_view_module_version": "1.2.0",
      "_view_name": "LayoutView",
      "align_content": null,
      "align_items": null,
      "align_self": null,
      "border": null,
      "bottom": null,
      "display": null,
      "flex": null,
      "flex_flow": null,
      "grid_area": null,
      "grid_auto_columns": null,
      "grid_auto_flow": null,
      "grid_auto_rows": null,
      "grid_column": null,
      "grid_gap": null,
      "grid_row": null,
      "grid_template_areas": null,
      "grid_template_columns": null,
      "grid_template_rows": null,
      "height": null,
      "justify_content": null,
      "justify_items": null,
      "left": null,
      "margin": null,
      "max_height": null,
      "max_width": null,
      "min_height": null,
      "min_width": null,
      "object_fit": null,
      "object_position": null,
      "order": null,
      "overflow": null,
      "overflow_x": null,
      "overflow_y": null,
      "padding": null,
      "right": null,
      "top": null,
      "visibility": null,
      "width": null
     }
    },
    "0eccd8c718da4e408a46cde3e43c25c1": {
     "model_module": "@jupyter-widgets/base",
     "model_module_version": "1.2.0",
     "model_name": "LayoutModel",
     "state": {
      "_model_module": "@jupyter-widgets/base",
      "_model_module_version": "1.2.0",
      "_model_name": "LayoutModel",
      "_view_count": null,
      "_view_module": "@jupyter-widgets/base",
      "_view_module_version": "1.2.0",
      "_view_name": "LayoutView",
      "align_content": null,
      "align_items": null,
      "align_self": null,
      "border": null,
      "bottom": null,
      "display": null,
      "flex": null,
      "flex_flow": null,
      "grid_area": null,
      "grid_auto_columns": null,
      "grid_auto_flow": null,
      "grid_auto_rows": null,
      "grid_column": null,
      "grid_gap": null,
      "grid_row": null,
      "grid_template_areas": null,
      "grid_template_columns": null,
      "grid_template_rows": null,
      "height": null,
      "justify_content": null,
      "justify_items": null,
      "left": null,
      "margin": null,
      "max_height": null,
      "max_width": null,
      "min_height": null,
      "min_width": null,
      "object_fit": null,
      "object_position": null,
      "order": null,
      "overflow": null,
      "overflow_x": null,
      "overflow_y": null,
      "padding": null,
      "right": null,
      "top": null,
      "visibility": null,
      "width": null
     }
    },
    "145ce6cf449c4c8bab7a2807483a82b4": {
     "model_module": "@jupyter-widgets/base",
     "model_module_version": "1.2.0",
     "model_name": "LayoutModel",
     "state": {
      "_model_module": "@jupyter-widgets/base",
      "_model_module_version": "1.2.0",
      "_model_name": "LayoutModel",
      "_view_count": null,
      "_view_module": "@jupyter-widgets/base",
      "_view_module_version": "1.2.0",
      "_view_name": "LayoutView",
      "align_content": null,
      "align_items": null,
      "align_self": null,
      "border": null,
      "bottom": null,
      "display": null,
      "flex": null,
      "flex_flow": null,
      "grid_area": null,
      "grid_auto_columns": null,
      "grid_auto_flow": null,
      "grid_auto_rows": null,
      "grid_column": null,
      "grid_gap": null,
      "grid_row": null,
      "grid_template_areas": null,
      "grid_template_columns": null,
      "grid_template_rows": null,
      "height": null,
      "justify_content": null,
      "justify_items": null,
      "left": null,
      "margin": null,
      "max_height": null,
      "max_width": null,
      "min_height": null,
      "min_width": null,
      "object_fit": null,
      "object_position": null,
      "order": null,
      "overflow": null,
      "overflow_x": null,
      "overflow_y": null,
      "padding": null,
      "right": null,
      "top": null,
      "visibility": null,
      "width": null
     }
    },
    "17b2a70eab734fc0b67df8b9b2613afd": {
     "model_module": "@jupyter-widgets/controls",
     "model_module_version": "1.5.0",
     "model_name": "HTMLModel",
     "state": {
      "_dom_classes": [],
      "_model_module": "@jupyter-widgets/controls",
      "_model_module_version": "1.5.0",
      "_model_name": "HTMLModel",
      "_view_count": null,
      "_view_module": "@jupyter-widgets/controls",
      "_view_module_version": "1.5.0",
      "_view_name": "HTMLView",
      "description": "",
      "description_tooltip": null,
      "layout": "IPY_MODEL_0d35efe01db347c89f0954b0ca083cf3",
      "placeholder": "​",
      "style": "IPY_MODEL_da50f098b9d240eab7158d31527a2274",
      "value": "Evaluating: 100%"
     }
    },
    "2227689b4748444bb42b7e104fda97e4": {
     "model_module": "@jupyter-widgets/controls",
     "model_module_version": "1.5.0",
     "model_name": "HBoxModel",
     "state": {
      "_dom_classes": [],
      "_model_module": "@jupyter-widgets/controls",
      "_model_module_version": "1.5.0",
      "_model_name": "HBoxModel",
      "_view_count": null,
      "_view_module": "@jupyter-widgets/controls",
      "_view_module_version": "1.5.0",
      "_view_name": "HBoxView",
      "box_style": "",
      "children": [
       "IPY_MODEL_8a9387dab3cf44369347fe2e64fcd783",
       "IPY_MODEL_5133feb8a9264100b5313330017bbc6c",
       "IPY_MODEL_7114bb5244824099961801c80f2733dc"
      ],
      "layout": "IPY_MODEL_cd5e41e4e15a4a8bb28ca93ea992ee2c"
     }
    },
    "307b58c3b940406288e17a46e1bd8859": {
     "model_module": "@jupyter-widgets/controls",
     "model_module_version": "1.5.0",
     "model_name": "HBoxModel",
     "state": {
      "_dom_classes": [],
      "_model_module": "@jupyter-widgets/controls",
      "_model_module_version": "1.5.0",
      "_model_name": "HBoxModel",
      "_view_count": null,
      "_view_module": "@jupyter-widgets/controls",
      "_view_module_version": "1.5.0",
      "_view_name": "HBoxView",
      "box_style": "",
      "children": [
       "IPY_MODEL_17b2a70eab734fc0b67df8b9b2613afd",
       "IPY_MODEL_cae50d1c13f84187ac095cfc44db6b94",
       "IPY_MODEL_939b1ef5dcdd46be99b45f65b1e5ae5d"
      ],
      "layout": "IPY_MODEL_145ce6cf449c4c8bab7a2807483a82b4"
     }
    },
    "39a18301205640678537b17f27acee34": {
     "model_module": "@jupyter-widgets/controls",
     "model_module_version": "1.5.0",
     "model_name": "ProgressStyleModel",
     "state": {
      "_model_module": "@jupyter-widgets/controls",
      "_model_module_version": "1.5.0",
      "_model_name": "ProgressStyleModel",
      "_view_count": null,
      "_view_module": "@jupyter-widgets/base",
      "_view_module_version": "1.2.0",
      "_view_name": "StyleView",
      "bar_color": null,
      "description_width": ""
     }
    },
    "3ab6ef4c37874fb0afba02bb34bf19bb": {
     "model_module": "@jupyter-widgets/controls",
     "model_module_version": "1.5.0",
     "model_name": "DescriptionStyleModel",
     "state": {
      "_model_module": "@jupyter-widgets/controls",
      "_model_module_version": "1.5.0",
      "_model_name": "DescriptionStyleModel",
      "_view_count": null,
      "_view_module": "@jupyter-widgets/base",
      "_view_module_version": "1.2.0",
      "_view_name": "StyleView",
      "description_width": ""
     }
    },
    "46426a3b7bec4d98ae97fe9597ae2ad9": {
     "model_module": "@jupyter-widgets/base",
     "model_module_version": "1.2.0",
     "model_name": "LayoutModel",
     "state": {
      "_model_module": "@jupyter-widgets/base",
      "_model_module_version": "1.2.0",
      "_model_name": "LayoutModel",
      "_view_count": null,
      "_view_module": "@jupyter-widgets/base",
      "_view_module_version": "1.2.0",
      "_view_name": "LayoutView",
      "align_content": null,
      "align_items": null,
      "align_self": null,
      "border": null,
      "bottom": null,
      "display": null,
      "flex": null,
      "flex_flow": null,
      "grid_area": null,
      "grid_auto_columns": null,
      "grid_auto_flow": null,
      "grid_auto_rows": null,
      "grid_column": null,
      "grid_gap": null,
      "grid_row": null,
      "grid_template_areas": null,
      "grid_template_columns": null,
      "grid_template_rows": null,
      "height": null,
      "justify_content": null,
      "justify_items": null,
      "left": null,
      "margin": null,
      "max_height": null,
      "max_width": null,
      "min_height": null,
      "min_width": null,
      "object_fit": null,
      "object_position": null,
      "order": null,
      "overflow": null,
      "overflow_x": null,
      "overflow_y": null,
      "padding": null,
      "right": null,
      "top": null,
      "visibility": null,
      "width": null
     }
    },
    "5133feb8a9264100b5313330017bbc6c": {
     "model_module": "@jupyter-widgets/controls",
     "model_module_version": "1.5.0",
     "model_name": "FloatProgressModel",
     "state": {
      "_dom_classes": [],
      "_model_module": "@jupyter-widgets/controls",
      "_model_module_version": "1.5.0",
      "_model_name": "FloatProgressModel",
      "_view_count": null,
      "_view_module": "@jupyter-widgets/controls",
      "_view_module_version": "1.5.0",
      "_view_name": "ProgressView",
      "bar_style": "success",
      "description": "",
      "description_tooltip": null,
      "layout": "IPY_MODEL_517d130d254b4af49a90eecc73daf326",
      "max": 20,
      "min": 0,
      "orientation": "horizontal",
      "style": "IPY_MODEL_aaeabb8375a841e099b7e14a885d7d77",
      "value": 20
     }
    },
    "517d130d254b4af49a90eecc73daf326": {
     "model_module": "@jupyter-widgets/base",
     "model_module_version": "1.2.0",
     "model_name": "LayoutModel",
     "state": {
      "_model_module": "@jupyter-widgets/base",
      "_model_module_version": "1.2.0",
      "_model_name": "LayoutModel",
      "_view_count": null,
      "_view_module": "@jupyter-widgets/base",
      "_view_module_version": "1.2.0",
      "_view_name": "LayoutView",
      "align_content": null,
      "align_items": null,
      "align_self": null,
      "border": null,
      "bottom": null,
      "display": null,
      "flex": null,
      "flex_flow": null,
      "grid_area": null,
      "grid_auto_columns": null,
      "grid_auto_flow": null,
      "grid_auto_rows": null,
      "grid_column": null,
      "grid_gap": null,
      "grid_row": null,
      "grid_template_areas": null,
      "grid_template_columns": null,
      "grid_template_rows": null,
      "height": null,
      "justify_content": null,
      "justify_items": null,
      "left": null,
      "margin": null,
      "max_height": null,
      "max_width": null,
      "min_height": null,
      "min_width": null,
      "object_fit": null,
      "object_position": null,
      "order": null,
      "overflow": null,
      "overflow_x": null,
      "overflow_y": null,
      "padding": null,
      "right": null,
      "top": null,
      "visibility": null,
      "width": null
     }
    },
    "7114bb5244824099961801c80f2733dc": {
     "model_module": "@jupyter-widgets/controls",
     "model_module_version": "1.5.0",
     "model_name": "HTMLModel",
     "state": {
      "_dom_classes": [],
      "_model_module": "@jupyter-widgets/controls",
      "_model_module_version": "1.5.0",
      "_model_name": "HTMLModel",
      "_view_count": null,
      "_view_module": "@jupyter-widgets/controls",
      "_view_module_version": "1.5.0",
      "_view_name": "HTMLView",
      "description": "",
      "description_tooltip": null,
      "layout": "IPY_MODEL_46426a3b7bec4d98ae97fe9597ae2ad9",
      "placeholder": "​",
      "style": "IPY_MODEL_3ab6ef4c37874fb0afba02bb34bf19bb",
      "value": " 20/20 [00:41&lt;00:00,  5.06s/it]"
     }
    },
    "803dea7f80f4416fb7c00ddeee494ea3": {
     "model_module": "@jupyter-widgets/controls",
     "model_module_version": "1.5.0",
     "model_name": "DescriptionStyleModel",
     "state": {
      "_model_module": "@jupyter-widgets/controls",
      "_model_module_version": "1.5.0",
      "_model_name": "DescriptionStyleModel",
      "_view_count": null,
      "_view_module": "@jupyter-widgets/base",
      "_view_module_version": "1.2.0",
      "_view_name": "StyleView",
      "description_width": ""
     }
    },
    "8a9387dab3cf44369347fe2e64fcd783": {
     "model_module": "@jupyter-widgets/controls",
     "model_module_version": "1.5.0",
     "model_name": "HTMLModel",
     "state": {
      "_dom_classes": [],
      "_model_module": "@jupyter-widgets/controls",
      "_model_module_version": "1.5.0",
      "_model_name": "HTMLModel",
      "_view_count": null,
      "_view_module": "@jupyter-widgets/controls",
      "_view_module_version": "1.5.0",
      "_view_name": "HTMLView",
      "description": "",
      "description_tooltip": null,
      "layout": "IPY_MODEL_0969a05ffc414998a8f0b7739d4e9132",
      "placeholder": "​",
      "style": "IPY_MODEL_ef0d2656dcfc44df9ad4c8dde41ed957",
      "value": "Evaluating: 100%"
     }
    },
    "939b1ef5dcdd46be99b45f65b1e5ae5d": {
     "model_module": "@jupyter-widgets/controls",
     "model_module_version": "1.5.0",
     "model_name": "HTMLModel",
     "state": {
      "_dom_classes": [],
      "_model_module": "@jupyter-widgets/controls",
      "_model_module_version": "1.5.0",
      "_model_name": "HTMLModel",
      "_view_count": null,
      "_view_module": "@jupyter-widgets/controls",
      "_view_module_version": "1.5.0",
      "_view_name": "HTMLView",
      "description": "",
      "description_tooltip": null,
      "layout": "IPY_MODEL_0eccd8c718da4e408a46cde3e43c25c1",
      "placeholder": "​",
      "style": "IPY_MODEL_803dea7f80f4416fb7c00ddeee494ea3",
      "value": " 20/20 [00:29&lt;00:00,  3.54s/it]"
     }
    },
    "a63761a22618484abaedc7a5ac5c604a": {
     "model_module": "@jupyter-widgets/base",
     "model_module_version": "1.2.0",
     "model_name": "LayoutModel",
     "state": {
      "_model_module": "@jupyter-widgets/base",
      "_model_module_version": "1.2.0",
      "_model_name": "LayoutModel",
      "_view_count": null,
      "_view_module": "@jupyter-widgets/base",
      "_view_module_version": "1.2.0",
      "_view_name": "LayoutView",
      "align_content": null,
      "align_items": null,
      "align_self": null,
      "border": null,
      "bottom": null,
      "display": null,
      "flex": null,
      "flex_flow": null,
      "grid_area": null,
      "grid_auto_columns": null,
      "grid_auto_flow": null,
      "grid_auto_rows": null,
      "grid_column": null,
      "grid_gap": null,
      "grid_row": null,
      "grid_template_areas": null,
      "grid_template_columns": null,
      "grid_template_rows": null,
      "height": null,
      "justify_content": null,
      "justify_items": null,
      "left": null,
      "margin": null,
      "max_height": null,
      "max_width": null,
      "min_height": null,
      "min_width": null,
      "object_fit": null,
      "object_position": null,
      "order": null,
      "overflow": null,
      "overflow_x": null,
      "overflow_y": null,
      "padding": null,
      "right": null,
      "top": null,
      "visibility": null,
      "width": null
     }
    },
    "aaeabb8375a841e099b7e14a885d7d77": {
     "model_module": "@jupyter-widgets/controls",
     "model_module_version": "1.5.0",
     "model_name": "ProgressStyleModel",
     "state": {
      "_model_module": "@jupyter-widgets/controls",
      "_model_module_version": "1.5.0",
      "_model_name": "ProgressStyleModel",
      "_view_count": null,
      "_view_module": "@jupyter-widgets/base",
      "_view_module_version": "1.2.0",
      "_view_name": "StyleView",
      "bar_color": null,
      "description_width": ""
     }
    },
    "cae50d1c13f84187ac095cfc44db6b94": {
     "model_module": "@jupyter-widgets/controls",
     "model_module_version": "1.5.0",
     "model_name": "FloatProgressModel",
     "state": {
      "_dom_classes": [],
      "_model_module": "@jupyter-widgets/controls",
      "_model_module_version": "1.5.0",
      "_model_name": "FloatProgressModel",
      "_view_count": null,
      "_view_module": "@jupyter-widgets/controls",
      "_view_module_version": "1.5.0",
      "_view_name": "ProgressView",
      "bar_style": "success",
      "description": "",
      "description_tooltip": null,
      "layout": "IPY_MODEL_a63761a22618484abaedc7a5ac5c604a",
      "max": 20,
      "min": 0,
      "orientation": "horizontal",
      "style": "IPY_MODEL_39a18301205640678537b17f27acee34",
      "value": 20
     }
    },
    "cd5e41e4e15a4a8bb28ca93ea992ee2c": {
     "model_module": "@jupyter-widgets/base",
     "model_module_version": "1.2.0",
     "model_name": "LayoutModel",
     "state": {
      "_model_module": "@jupyter-widgets/base",
      "_model_module_version": "1.2.0",
      "_model_name": "LayoutModel",
      "_view_count": null,
      "_view_module": "@jupyter-widgets/base",
      "_view_module_version": "1.2.0",
      "_view_name": "LayoutView",
      "align_content": null,
      "align_items": null,
      "align_self": null,
      "border": null,
      "bottom": null,
      "display": null,
      "flex": null,
      "flex_flow": null,
      "grid_area": null,
      "grid_auto_columns": null,
      "grid_auto_flow": null,
      "grid_auto_rows": null,
      "grid_column": null,
      "grid_gap": null,
      "grid_row": null,
      "grid_template_areas": null,
      "grid_template_columns": null,
      "grid_template_rows": null,
      "height": null,
      "justify_content": null,
      "justify_items": null,
      "left": null,
      "margin": null,
      "max_height": null,
      "max_width": null,
      "min_height": null,
      "min_width": null,
      "object_fit": null,
      "object_position": null,
      "order": null,
      "overflow": null,
      "overflow_x": null,
      "overflow_y": null,
      "padding": null,
      "right": null,
      "top": null,
      "visibility": null,
      "width": null
     }
    },
    "da50f098b9d240eab7158d31527a2274": {
     "model_module": "@jupyter-widgets/controls",
     "model_module_version": "1.5.0",
     "model_name": "DescriptionStyleModel",
     "state": {
      "_model_module": "@jupyter-widgets/controls",
      "_model_module_version": "1.5.0",
      "_model_name": "DescriptionStyleModel",
      "_view_count": null,
      "_view_module": "@jupyter-widgets/base",
      "_view_module_version": "1.2.0",
      "_view_name": "StyleView",
      "description_width": ""
     }
    },
    "ef0d2656dcfc44df9ad4c8dde41ed957": {
     "model_module": "@jupyter-widgets/controls",
     "model_module_version": "1.5.0",
     "model_name": "DescriptionStyleModel",
     "state": {
      "_model_module": "@jupyter-widgets/controls",
      "_model_module_version": "1.5.0",
      "_model_name": "DescriptionStyleModel",
      "_view_count": null,
      "_view_module": "@jupyter-widgets/base",
      "_view_module_version": "1.2.0",
      "_view_name": "StyleView",
      "description_width": ""
     }
    }
   }
  }
 },
 "nbformat": 4,
 "nbformat_minor": 5
}
