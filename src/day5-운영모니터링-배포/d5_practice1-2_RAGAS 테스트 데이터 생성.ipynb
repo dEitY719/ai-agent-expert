{
 "cells": [
  {
   "cell_type": "markdown",
   "id": "8479ab85",
   "metadata": {},
   "source": [
    "# RAGAS를 활용한 데이터 생성\n",
    "\n",
    "RAGAS 라이브러리에서는 데이터 생성 및 합성 기능 또한 제공합니다."
   ]
  },
  {
   "cell_type": "code",
   "execution_count": null,
   "id": "280f1edd",
   "metadata": {},
   "outputs": [],
   "source": [
    "import os\n",
    "import getpass\n",
    "\n",
    "# API 키 설정\n",
    "os.environ[\"OPENAI_API_KEY\"] = (\n",
    "    \"your-api-key\"\n",
    ")"
   ]
  },
  {
   "cell_type": "code",
   "execution_count": 2,
   "id": "db41b8fe",
   "metadata": {},
   "outputs": [
    {
     "name": "stderr",
     "output_type": "stream",
     "text": [
      "/home/elicer/.local/lib/python3.10/site-packages/tqdm/auto.py:21: TqdmWarning: IProgress not found. Please update jupyter and ipywidgets. See https://ipywidgets.readthedocs.io/en/stable/user_install.html\n",
      "  from .autonotebook import tqdm as notebook_tqdm\n"
     ]
    }
   ],
   "source": [
    "from ragas.testset import TestsetGenerator\n",
    "from ragas.testset.graph import KnowledgeGraph, Node, NodeType\n",
    "from ragas.testset.transforms import apply_transforms, HeadlinesExtractor, HeadlineSplitter, KeyphrasesExtractor\n",
    "from ragas.testset.persona import Persona\n",
    "from ragas.testset.synthesizers.single_hop.specific import SingleHopSpecificQuerySynthesizer\n",
    "from ragas.llms import LangchainLLMWrapper\n",
    "from ragas.embeddings import LangchainEmbeddingsWrapper\n",
    "\n",
    "from langchain_openai import ChatOpenAI, OpenAIEmbeddings\n",
    "from langchain_community.document_loaders import PyPDFLoader\n",
    "from langchain_text_splitters import RecursiveCharacterTextSplitter\n",
    "import pandas as pd"
   ]
  },
  {
   "cell_type": "code",
   "execution_count": 3,
   "id": "bb629b05",
   "metadata": {},
   "outputs": [
    {
     "name": "stderr",
     "output_type": "stream",
     "text": [
      "/tmp/ipykernel_288/696161780.py:5: DeprecationWarning: LangchainEmbeddingsWrapper is deprecated and will be removed in a future version. Use the modern embedding providers instead: embedding_factory('openai', model='text-embedding-3-small', client=openai_client) or from ragas.embeddings import OpenAIEmbeddings, GoogleEmbeddings, HuggingFaceEmbeddings\n",
      "  generator_embeddings = LangchainEmbeddingsWrapper(OpenAIEmbeddings(model=\"text-embedding-3-small\"))\n"
     ]
    },
    {
     "name": "stdout",
     "output_type": "stream",
     "text": [
      "총 40 페이지에서 35개의 문서 조각을 생성했습니다.\n"
     ]
    }
   ],
   "source": [
    "# 1. LLM과 임베딩 모델 설정 및 Ragas 래퍼 적용\n",
    "generator_llm = LangchainLLMWrapper(ChatOpenAI(model=\"gpt-4o-mini\"))\n",
    "\n",
    "# embedding_model\n",
    "generator_embeddings = LangchainEmbeddingsWrapper(OpenAIEmbeddings(model=\"text-embedding-3-small\"))\n",
    "\n",
    "# 2. 문서 로드 및 전처리\n",
    "loader = PyPDFLoader(\"./National_AI_Plan.pdf\")\n",
    "pdf = loader.load()\n",
    "\n",
    "\n",
    "# 문서 분할 (긴 문서의 경우)\n",
    "text_splitter = RecursiveCharacterTextSplitter(\n",
    "    chunk_size=1500, chunk_overlap=200  # 튜토리얼의 HeadlineSplitter max_tokens와 유사하게 설정\n",
    ")\n",
    "documents = text_splitter.split_documents(pdf)\n",
    "\n",
    "# 너무 짧은 문서 제거 (Ragas 처리 시 오류 방지)\n",
    "processed_documents = [doc for doc in documents if len(doc.page_content) > 100]\n",
    "print(f\"총 {len(pdf)} 페이지에서 {len(processed_documents)}개의 문서 조각을 생성했습니다.\")"
   ]
  },
  {
   "cell_type": "markdown",
   "id": "058d65af",
   "metadata": {},
   "source": [
    "비정형 데이터(문서 텍스트)를 Ragas가 이해하고 활용할 수 있는 구조적인 형태로 만들기 위해 지식 그래프로 변환합니다.  \n",
    "\n",
    "`TestsetGenerator`는 전체 문서에서 무작위로 질문을 만드는 것이 아니라, 지식 그래프의 특정 노드 하나를 선택하고 그 노드의 내용과 속성(헤드라인, 키워드 등)에 집중하여 질문을 생성합니다. 이는 생성된 질문이 특정 컨텍스트에 기반하고, 그에 대한 '정답' 역시 해당 노드 내용으로 한정될 수 있게 해줍니다. 이는 RAG 평가의 신뢰도를 높입니다."
   ]
  },
  {
   "cell_type": "code",
   "execution_count": 4,
   "id": "8117c895",
   "metadata": {},
   "outputs": [
    {
     "name": "stdout",
     "output_type": "stream",
     "text": [
      "\n",
      "초기 지식 그래프 상태: KnowledgeGraph(nodes: 35, relationships: 0)\n"
     ]
    }
   ],
   "source": [
    "# 3. 문서를 지식 그래프의 노드로 변환\n",
    "kg = KnowledgeGraph()\n",
    "\n",
    "for doc in processed_documents:\n",
    "    kg.nodes.append(\n",
    "        Node(type=NodeType.DOCUMENT, properties={\"page_content\": doc.page_content, \"document_metadata\": doc.metadata})\n",
    "    )\n",
    "\n",
    "print(f\"\\n초기 지식 그래프 상태: {kg}\")"
   ]
  },
  {
   "cell_type": "markdown",
   "id": "5696b16d",
   "metadata": {},
   "source": [
    "지식 그래프의 노드에 저장된 정보를 더 풍부하게 만들어, 더 다양하고 품질 좋은 질문을 생성하기 위해서 변환을 적용합니다.\n",
    "\n",
    "- `HeadlinesExtractor` (헤드라인 추출): 문서 조각에서 소제목이나 핵심 주제를 추출하여 노드에 'headlines' 속성으로 추가합니다. \n",
    "\n",
    "- `KeyphrasesExtractor` (키워드 추출): 문서 조각의 핵심 키워드들을 추출하여 노드에 'keyphrases' 속성으로 추가합니다. \n",
    "\n",
    "- `HeadlineSplitter` (헤드라인 기준 분할): 하나의 노드가 너무 길고 여러 주제를 포함하고 있을 때, 추출된 헤드라인을 기준으로 노드를 더 작고 의미 있는 단위로 쪼개줍니다. 이렇게 하면 각 노드가 하나의 주제에 더 집중하게 되어, 질문과 정답의 명확성이 높아집니다."
   ]
  },
  {
   "cell_type": "code",
   "execution_count": 6,
   "id": "905d5341",
   "metadata": {},
   "outputs": [
    {
     "name": "stderr",
     "output_type": "stream",
     "text": [
      "Applying HeadlinesExtractor:   0%|          | 0/70 [00:00<?, ?it/s]Property 'headlines' already exists in node '3b282f'. Skipping!\n",
      "Applying HeadlinesExtractor:   1%|▏         | 1/70 [00:01<01:37,  1.41s/it]Property 'headlines' already exists in node '687446'. Skipping!\n",
      "Applying HeadlinesExtractor:   3%|▎         | 2/70 [00:01<00:46,  1.46it/s]Property 'headlines' already exists in node 'fd67e6'. Skipping!\n",
      "Applying HeadlinesExtractor:   4%|▍         | 3/70 [00:01<00:28,  2.34it/s]Property 'headlines' already exists in node '08f534'. Skipping!\n",
      "Property 'headlines' already exists in node 'ed7119'. Skipping!\n",
      "Applying HeadlinesExtractor:   7%|▋         | 5/70 [00:01<00:15,  4.15it/s]Property 'headlines' already exists in node '8f98f4'. Skipping!\n",
      "Property 'headlines' already exists in node '156167'. Skipping!\n",
      "Property 'headlines' already exists in node '0df320'. Skipping!\n",
      "Applying HeadlinesExtractor:  11%|█▏        | 8/70 [00:02<00:08,  7.15it/s]Property 'headlines' already exists in node '86a5ae'. Skipping!\n",
      "Property 'headlines' already exists in node '51e4f0'. Skipping!\n",
      "Applying HeadlinesExtractor:  14%|█▍        | 10/70 [00:02<00:06,  9.13it/s]Property 'headlines' already exists in node 'e0b5cf'. Skipping!\n",
      "Property 'headlines' already exists in node 'beaae6'. Skipping!\n",
      "Applying HeadlinesExtractor:  17%|█▋        | 12/70 [00:02<00:08,  6.59it/s]Property 'headlines' already exists in node '12c1f8'. Skipping!\n",
      "Property 'headlines' already exists in node '40c736'. Skipping!\n",
      "Applying HeadlinesExtractor:  20%|██        | 14/70 [00:03<00:12,  4.65it/s]Property 'headlines' already exists in node 'de8f8f'. Skipping!\n",
      "Applying HeadlinesExtractor:  21%|██▏       | 15/70 [00:03<00:10,  5.11it/s]Property 'headlines' already exists in node 'e69d49'. Skipping!\n",
      "Applying HeadlinesExtractor:  23%|██▎       | 16/70 [00:03<00:10,  4.97it/s]Property 'headlines' already exists in node '782e1e'. Skipping!\n",
      "Property 'headlines' already exists in node 'cc4f5e'. Skipping!\n",
      "Applying HeadlinesExtractor:  24%|██▍       | 17/70 [00:03<00:09,  5.44it/s]Property 'headlines' already exists in node 'dc241b'. Skipping!\n",
      "Property 'headlines' already exists in node '91bdc7'. Skipping!\n",
      "Property 'headlines' already exists in node '73cc8b'. Skipping!\n",
      "Applying HeadlinesExtractor:  30%|███       | 21/70 [00:03<00:04, 10.51it/s]Property 'headlines' already exists in node '30881d'. Skipping!\n",
      "Property 'headlines' already exists in node '078310'. Skipping!\n",
      "Applying HeadlinesExtractor:  33%|███▎      | 23/70 [00:04<00:04, 11.06it/s]Property 'headlines' already exists in node 'c23347'. Skipping!\n",
      "Property 'headlines' already exists in node 'aae102'. Skipping!\n",
      "Applying HeadlinesExtractor:  36%|███▌      | 25/70 [00:04<00:03, 12.09it/s]Property 'headlines' already exists in node '9b42f8'. Skipping!\n",
      "Property 'headlines' already exists in node 'b48da4'. Skipping!\n",
      "Applying HeadlinesExtractor:  39%|███▊      | 27/70 [00:04<00:03, 11.12it/s]Property 'headlines' already exists in node '884556'. Skipping!\n",
      "Property 'headlines' already exists in node '59972b'. Skipping!\n",
      "Applying HeadlinesExtractor:  41%|████▏     | 29/70 [00:04<00:05,  7.37it/s]Property 'headlines' already exists in node 'a451d5'. Skipping!\n",
      "Property 'headlines' already exists in node '78f8d6'. Skipping!\n",
      "Applying HeadlinesExtractor:  44%|████▍     | 31/70 [00:05<00:04,  8.88it/s]Property 'headlines' already exists in node '7ce6b8'. Skipping!\n",
      "Property 'headlines' already exists in node 'fd67e6'. Skipping!\n",
      "Applying HeadlinesExtractor:  47%|████▋     | 33/70 [00:05<00:03, 10.37it/s]Property 'headlines' already exists in node '61758d'. Skipping!\n",
      "Property 'headlines' already exists in node '907d1f'. Skipping!\n",
      "Applying HeadlinesExtractor:  50%|█████     | 35/70 [00:05<00:03,  9.19it/s]Property 'headlines' already exists in node '3b282f'. Skipping!\n",
      "Property 'headlines' already exists in node '08f534'. Skipping!\n",
      "Applying HeadlinesExtractor:  53%|█████▎    | 37/70 [00:05<00:03,  9.75it/s]Property 'headlines' already exists in node 'de3752'. Skipping!\n",
      "Property 'headlines' already exists in node '156167'. Skipping!\n",
      "Applying HeadlinesExtractor:  56%|█████▌    | 39/70 [00:05<00:02, 11.16it/s]Property 'headlines' already exists in node '91bdc7'. Skipping!\n",
      "Property 'headlines' already exists in node 'e0b5cf'. Skipping!\n",
      "Applying HeadlinesExtractor:  59%|█████▊    | 41/70 [00:06<00:03,  8.38it/s]Property 'headlines' already exists in node 'beaae6'. Skipping!\n",
      "Property 'headlines' already exists in node 'ed7119'. Skipping!\n",
      "Applying HeadlinesExtractor:  61%|██████▏   | 43/70 [00:06<00:05,  5.32it/s]Property 'headlines' already exists in node '687446'. Skipping!\n",
      "Property 'headlines' already exists in node '0df320'. Skipping!\n",
      "Applying HeadlinesExtractor:  64%|██████▍   | 45/70 [00:06<00:03,  6.34it/s]Property 'headlines' already exists in node '51e4f0'. Skipping!\n",
      "Property 'headlines' already exists in node '40c736'. Skipping!\n",
      "Applying HeadlinesExtractor:  67%|██████▋   | 47/70 [00:07<00:03,  7.31it/s]Property 'headlines' already exists in node 'dc241b'. Skipping!\n",
      "Applying HeadlinesExtractor:  69%|██████▊   | 48/70 [00:07<00:03,  6.85it/s]Property 'headlines' already exists in node '8f98f4'. Skipping!\n",
      "Property 'headlines' already exists in node '782e1e'. Skipping!\n",
      "Applying HeadlinesExtractor:  71%|███████▏  | 50/70 [00:07<00:02,  7.44it/s]Property 'headlines' already exists in node 'de8f8f'. Skipping!\n",
      "Property 'headlines' already exists in node 'cc4f5e'. Skipping!\n",
      "Property 'headlines' already exists in node 'b48da4'. Skipping!\n",
      "Applying HeadlinesExtractor:  76%|███████▌  | 53/70 [00:07<00:01,  9.42it/s]Property 'headlines' already exists in node '9b42f8'. Skipping!\n",
      "Property 'headlines' already exists in node '73cc8b'. Skipping!\n",
      "Applying HeadlinesExtractor:  79%|███████▊  | 55/70 [00:07<00:01,  9.81it/s]Property 'headlines' already exists in node '12c1f8'. Skipping!\n",
      "Property 'headlines' already exists in node 'e69d49'. Skipping!\n",
      "Property 'headlines' already exists in node '078310'. Skipping!\n",
      "Applying HeadlinesExtractor:  83%|████████▎ | 58/70 [00:08<00:01,  8.50it/s]Property 'headlines' already exists in node '884556'. Skipping!\n",
      "Applying HeadlinesExtractor:  84%|████████▍ | 59/70 [00:08<00:01,  7.21it/s]Property 'headlines' already exists in node '30881d'. Skipping!\n",
      "Property 'headlines' already exists in node 'aae102'. Skipping!\n",
      "Property 'headlines' already exists in node '86a5ae'. Skipping!\n",
      "Property 'headlines' already exists in node '59972b'. Skipping!\n",
      "Applying HeadlinesExtractor:  90%|█████████ | 63/70 [00:08<00:00,  9.62it/s]Property 'headlines' already exists in node 'c23347'. Skipping!\n",
      "Property 'headlines' already exists in node 'a451d5'. Skipping!\n",
      "Property 'headlines' already exists in node '7ce6b8'. Skipping!\n",
      "Property 'headlines' already exists in node '61758d'. Skipping!\n",
      "Applying HeadlinesExtractor:  96%|█████████▌| 67/70 [00:09<00:00, 12.56it/s]Property 'headlines' already exists in node '78f8d6'. Skipping!\n",
      "Property 'headlines' already exists in node 'de3752'. Skipping!\n",
      "Applying HeadlinesExtractor:  99%|█████████▊| 69/70 [00:09<00:00, 10.82it/s]Property 'headlines' already exists in node '907d1f'. Skipping!\n",
      "Applying KeyphrasesExtractor:   0%|          | 0/140 [00:00<?, ?it/s]       Property 'keyphrases' already exists in node '86a5ae'. Skipping!\n",
      "Applying KeyphrasesExtractor:   1%|          | 1/140 [00:01<02:38,  1.14s/it]Property 'keyphrases' already exists in node '40c736'. Skipping!\n",
      "Property 'keyphrases' already exists in node 'fd67e6'. Skipping!\n",
      "Property 'keyphrases' already exists in node '687446'. Skipping!\n",
      "Property 'keyphrases' already exists in node 'e0b5cf'. Skipping!\n",
      "Property 'keyphrases' already exists in node '9b42f8'. Skipping!\n",
      "Property 'keyphrases' already exists in node '156167'. Skipping!\n",
      "Applying KeyphrasesExtractor:   5%|▌         | 7/140 [00:01<00:18,  7.35it/s]Property 'keyphrases' already exists in node '91bdc7'. Skipping!\n",
      "Property 'keyphrases' already exists in node '8f98f4'. Skipping!\n",
      "Property 'keyphrases' already exists in node 'ed7119'. Skipping!\n",
      "Property 'keyphrases' already exists in node '51e4f0'. Skipping!\n",
      "Applying KeyphrasesExtractor:   8%|▊         | 11/140 [00:01<00:11, 11.61it/s]Property 'keyphrases' already exists in node 'b48da4'. Skipping!\n"
     ]
    },
    {
     "name": "stderr",
     "output_type": "stream",
     "text": [
      "Property 'keyphrases' already exists in node 'beaae6'. Skipping!\n",
      "Property 'keyphrases' already exists in node '08f534'. Skipping!\n",
      "Property 'keyphrases' already exists in node '3b282f'. Skipping!\n",
      "Applying KeyphrasesExtractor:  11%|█         | 15/140 [00:01<00:11, 11.32it/s]Property 'keyphrases' already exists in node '0df320'. Skipping!\n",
      "Property 'keyphrases' already exists in node '12c1f8'. Skipping!\n",
      "Property 'keyphrases' already exists in node '73cc8b'. Skipping!\n",
      "Applying KeyphrasesExtractor:  13%|█▎        | 18/140 [00:02<00:15,  7.94it/s]Property 'keyphrases' already exists in node '30881d'. Skipping!\n",
      "Property 'keyphrases' already exists in node 'de8f8f'. Skipping!\n",
      "Property 'keyphrases' already exists in node '782e1e'. Skipping!\n",
      "Applying KeyphrasesExtractor:  14%|█▍        | 20/140 [00:02<00:13,  9.07it/s]Property 'keyphrases' already exists in node 'e69d49'. Skipping!\n",
      "Property 'keyphrases' already exists in node 'aae102'. Skipping!\n",
      "Property 'keyphrases' already exists in node 'c23347'. Skipping!\n",
      "Applying KeyphrasesExtractor:  17%|█▋        | 24/140 [00:02<00:09, 12.64it/s]Property 'keyphrases' already exists in node '59972b'. Skipping!\n",
      "Property 'keyphrases' already exists in node 'dc241b'. Skipping!\n",
      "Property 'keyphrases' already exists in node '884556'. Skipping!\n",
      "Applying KeyphrasesExtractor:  19%|█▉        | 27/140 [00:02<00:07, 14.37it/s]Property 'keyphrases' already exists in node '078310'. Skipping!\n",
      "Property 'keyphrases' already exists in node 'cc4f5e'. Skipping!\n",
      "Property 'keyphrases' already exists in node '78f8d6'. Skipping!\n",
      "Applying KeyphrasesExtractor:  21%|██▏       | 30/140 [00:03<00:09, 11.78it/s]Property 'keyphrases' already exists in node '7ce6b8'. Skipping!\n",
      "Property 'keyphrases' already exists in node '156167'. Skipping!\n",
      "Applying KeyphrasesExtractor:  23%|██▎       | 32/140 [00:03<00:12,  8.52it/s]Property 'keyphrases' already exists in node 'beaae6'. Skipping!\n",
      "Property 'keyphrases' already exists in node 'de3752'. Skipping!\n",
      "Applying KeyphrasesExtractor:  24%|██▍       | 34/140 [00:03<00:13,  7.88it/s]Property 'keyphrases' already exists in node '08f534'. Skipping!\n",
      "Property 'keyphrases' already exists in node 'fd67e6'. Skipping!\n",
      "Property 'keyphrases' already exists in node '61758d'. Skipping!\n",
      "Property 'keyphrases' already exists in node 'a451d5'. Skipping!\n",
      "Applying KeyphrasesExtractor:  27%|██▋       | 38/140 [00:03<00:08, 11.64it/s]Property 'keyphrases' already exists in node '9b42f8'. Skipping!\n",
      "Property 'keyphrases' already exists in node '907d1f'. Skipping!\n",
      "Property 'keyphrases' already exists in node '51e4f0'. Skipping!\n",
      "Applying KeyphrasesExtractor:  29%|██▉       | 41/140 [00:04<00:07, 13.31it/s]Property 'keyphrases' already exists in node '8f98f4'. Skipping!\n",
      "Property 'keyphrases' already exists in node '91bdc7'. Skipping!\n",
      "Applying KeyphrasesExtractor:  31%|███       | 43/140 [00:04<00:08, 11.23it/s]Property 'keyphrases' already exists in node 'b48da4'. Skipping!\n",
      "Property 'keyphrases' already exists in node '3b282f'. Skipping!\n",
      "Applying KeyphrasesExtractor:  32%|███▏      | 45/140 [00:04<00:11,  8.09it/s]Property 'keyphrases' already exists in node 'aae102'. Skipping!\n",
      "Property 'keyphrases' already exists in node '86a5ae'. Skipping!\n",
      "Applying KeyphrasesExtractor:  34%|███▎      | 47/140 [00:05<00:13,  7.00it/s]Property 'keyphrases' already exists in node '782e1e'. Skipping!\n",
      "Property 'keyphrases' already exists in node 'ed7119'. Skipping!\n",
      "Property 'keyphrases' already exists in node '73cc8b'. Skipping!\n",
      "Applying KeyphrasesExtractor:  36%|███▌      | 50/140 [00:05<00:09,  9.08it/s]Property 'keyphrases' already exists in node 'dc241b'. Skipping!\n",
      "Property 'keyphrases' already exists in node '687446'. Skipping!\n",
      "Applying KeyphrasesExtractor:  37%|███▋      | 52/140 [00:05<00:08, 10.34it/s]Property 'keyphrases' already exists in node '12c1f8'. Skipping!\n",
      "Property 'keyphrases' already exists in node 'de8f8f'. Skipping!\n",
      "Applying KeyphrasesExtractor:  39%|███▊      | 54/140 [00:05<00:09,  8.76it/s]Property 'keyphrases' already exists in node 'cc4f5e'. Skipping!\n",
      "Property 'keyphrases' already exists in node '884556'. Skipping!\n",
      "Property 'keyphrases' already exists in node '40c736'. Skipping!\n",
      "Applying KeyphrasesExtractor:  41%|████      | 57/140 [00:05<00:07, 11.51it/s]Property 'keyphrases' already exists in node '30881d'. Skipping!\n",
      "Property 'keyphrases' already exists in node 'e69d49'. Skipping!\n",
      "Applying KeyphrasesExtractor:  42%|████▏     | 59/140 [00:06<00:08, 10.06it/s]Property 'keyphrases' already exists in node '0df320'. Skipping!\n",
      "Property 'keyphrases' already exists in node 'c23347'. Skipping!\n",
      "Applying KeyphrasesExtractor:  44%|████▎     | 61/140 [00:06<00:09,  8.72it/s]Property 'keyphrases' already exists in node '59972b'. Skipping!\n",
      "Property 'keyphrases' already exists in node 'e0b5cf'. Skipping!\n",
      "Applying KeyphrasesExtractor:  45%|████▌     | 63/140 [00:06<00:08,  8.86it/s]Property 'keyphrases' already exists in node '078310'. Skipping!\n",
      "Property 'keyphrases' already exists in node '7ce6b8'. Skipping!\n",
      "Applying KeyphrasesExtractor:  46%|████▋     | 65/140 [00:06<00:07, 10.31it/s]Property 'keyphrases' already exists in node 'de3752'. Skipping!\n",
      "Property 'keyphrases' already exists in node 'a451d5'. Skipping!\n",
      "Applying KeyphrasesExtractor:  48%|████▊     | 67/140 [00:07<00:08,  8.50it/s]Property 'keyphrases' already exists in node '156167'. Skipping!\n",
      "Property 'keyphrases' already exists in node '08f534'. Skipping!\n",
      "Property 'keyphrases' already exists in node 'fd67e6'. Skipping!\n",
      "Applying KeyphrasesExtractor:  50%|█████     | 70/140 [00:07<00:06, 11.40it/s]Property 'keyphrases' already exists in node '9b42f8'. Skipping!\n",
      "Property 'keyphrases' already exists in node '61758d'. Skipping!\n",
      "Applying KeyphrasesExtractor:  51%|█████▏    | 72/140 [00:07<00:07,  9.31it/s]Property 'keyphrases' already exists in node '78f8d6'. Skipping!\n",
      "Property 'keyphrases' already exists in node 'beaae6'. Skipping!\n",
      "Applying KeyphrasesExtractor:  53%|█████▎    | 74/140 [00:07<00:06,  9.87it/s]Property 'keyphrases' already exists in node '91bdc7'. Skipping!\n",
      "Property 'keyphrases' already exists in node '3b282f'. Skipping!\n",
      "Property 'keyphrases' already exists in node '51e4f0'. Skipping!\n",
      "Property 'keyphrases' already exists in node '40c736'. Skipping!\n",
      "Applying KeyphrasesExtractor:  56%|█████▌    | 78/140 [00:07<00:04, 14.46it/s]Property 'keyphrases' already exists in node 'e0b5cf'. Skipping!\n",
      "Property 'keyphrases' already exists in node '8f98f4'. Skipping!\n",
      "Property 'keyphrases' already exists in node '687446'. Skipping!\n",
      "Applying KeyphrasesExtractor:  58%|█████▊    | 81/140 [00:08<00:04, 12.57it/s]Property 'keyphrases' already exists in node '86a5ae'. Skipping!\n",
      "Property 'keyphrases' already exists in node '0df320'. Skipping!\n",
      "Applying KeyphrasesExtractor:  59%|█████▉    | 83/140 [00:08<00:05, 10.66it/s]Property 'keyphrases' already exists in node 'b48da4'. Skipping!\n",
      "Property 'keyphrases' already exists in node '907d1f'. Skipping!\n",
      "Applying KeyphrasesExtractor:  61%|██████    | 85/140 [00:08<00:05,  9.86it/s]Property 'keyphrases' already exists in node 'ed7119'. Skipping!\n",
      "Property 'keyphrases' already exists in node 'e69d49'. Skipping!\n",
      "Property 'keyphrases' already exists in node '782e1e'. Skipping!\n",
      "Applying KeyphrasesExtractor:  62%|██████▏   | 87/140 [00:09<00:06,  8.03it/s]Property 'keyphrases' already exists in node '12c1f8'. Skipping!\n",
      "Property 'keyphrases' already exists in node 'de8f8f'. Skipping!\n",
      "Property 'keyphrases' already exists in node 'cc4f5e'. Skipping!\n",
      "Applying KeyphrasesExtractor:  65%|██████▌   | 91/140 [00:09<00:04, 10.61it/s]Property 'keyphrases' already exists in node 'dc241b'. Skipping!\n",
      "Property 'keyphrases' already exists in node '884556'. Skipping!\n",
      "Applying KeyphrasesExtractor:  66%|██████▋   | 93/140 [00:09<00:04, 10.74it/s]Property 'keyphrases' already exists in node 'aae102'. Skipping!\n",
      "Property 'keyphrases' already exists in node '73cc8b'. Skipping!\n",
      "Applying KeyphrasesExtractor:  68%|██████▊   | 95/140 [00:09<00:04, 10.91it/s]Property 'keyphrases' already exists in node '30881d'. Skipping!\n",
      "Property 'keyphrases' already exists in node 'c23347'. Skipping!\n",
      "Property 'keyphrases' already exists in node '59972b'. Skipping!\n",
      "Property 'keyphrases' already exists in node '7ce6b8'. Skipping!\n"
     ]
    },
    {
     "name": "stderr",
     "output_type": "stream",
     "text": [
      "Applying KeyphrasesExtractor:  71%|███████   | 99/140 [00:09<00:03, 13.13it/s]Property 'keyphrases' already exists in node '78f8d6'. Skipping!\n",
      "Property 'keyphrases' already exists in node '078310'. Skipping!\n",
      "Applying KeyphrasesExtractor:  72%|███████▏  | 101/140 [00:10<00:05,  7.51it/s]Property 'keyphrases' already exists in node 'a451d5'. Skipping!\n",
      "Property 'keyphrases' already exists in node '156167'. Skipping!\n",
      "Applying KeyphrasesExtractor:  74%|███████▎  | 103/140 [00:10<00:04,  8.33it/s]Property 'keyphrases' already exists in node 'de3752'. Skipping!\n",
      "Property 'keyphrases' already exists in node 'fd67e6'. Skipping!\n",
      "Property 'keyphrases' already exists in node 'beaae6'. Skipping!\n",
      "Applying KeyphrasesExtractor:  75%|███████▌  | 105/140 [00:10<00:03,  9.51it/s]Property 'keyphrases' already exists in node '61758d'. Skipping!\n",
      "Applying KeyphrasesExtractor:  76%|███████▋  | 107/140 [00:11<00:03, 10.40it/s]Property 'keyphrases' already exists in node '3b282f'. Skipping!\n",
      "Property 'keyphrases' already exists in node '9b42f8'. Skipping!\n",
      "Property 'keyphrases' already exists in node '91bdc7'. Skipping!\n",
      "Applying KeyphrasesExtractor:  79%|███████▊  | 110/140 [00:11<00:02, 13.15it/s]Property 'keyphrases' already exists in node 'e0b5cf'. Skipping!\n",
      "Property 'keyphrases' already exists in node '907d1f'. Skipping!\n",
      "Applying KeyphrasesExtractor:  80%|████████  | 112/140 [00:11<00:02,  9.94it/s]Property 'keyphrases' already exists in node 'b48da4'. Skipping!\n",
      "Property 'keyphrases' already exists in node '08f534'. Skipping!\n",
      "Applying KeyphrasesExtractor:  81%|████████▏ | 114/140 [00:11<00:02, 10.48it/s]Property 'keyphrases' already exists in node '40c736'. Skipping!\n",
      "Property 'keyphrases' already exists in node '51e4f0'. Skipping!\n",
      "Property 'keyphrases' already exists in node '8f98f4'. Skipping!\n",
      "Applying KeyphrasesExtractor:  84%|████████▎ | 117/140 [00:11<00:01, 13.03it/s]Property 'keyphrases' already exists in node '687446'. Skipping!\n",
      "Property 'keyphrases' already exists in node '86a5ae'. Skipping!\n",
      "Applying KeyphrasesExtractor:  85%|████████▌ | 119/140 [00:12<00:02,  9.38it/s]Property 'keyphrases' already exists in node '12c1f8'. Skipping!\n",
      "Property 'keyphrases' already exists in node 'ed7119'. Skipping!\n",
      "Property 'keyphrases' already exists in node '0df320'. Skipping!\n",
      "Applying KeyphrasesExtractor:  87%|████████▋ | 122/140 [00:12<00:01, 11.34it/s]Property 'keyphrases' already exists in node 'dc241b'. Skipping!\n",
      "Property 'keyphrases' already exists in node '782e1e'. Skipping!\n",
      "Applying KeyphrasesExtractor:  89%|████████▊ | 124/140 [00:12<00:01, 10.70it/s]Property 'keyphrases' already exists in node 'de8f8f'. Skipping!\n",
      "Property 'keyphrases' already exists in node 'e69d49'. Skipping!\n",
      "Applying KeyphrasesExtractor:  90%|█████████ | 126/140 [00:12<00:01,  8.06it/s]Property 'keyphrases' already exists in node '73cc8b'. Skipping!\n",
      "Property 'keyphrases' already exists in node 'c23347'. Skipping!\n",
      "Property 'keyphrases' already exists in node '884556'. Skipping!\n",
      "Applying KeyphrasesExtractor:  92%|█████████▏| 129/140 [00:13<00:01, 10.41it/s]Property 'keyphrases' already exists in node 'cc4f5e'. Skipping!\n",
      "Property 'keyphrases' already exists in node 'aae102'. Skipping!\n",
      "Applying KeyphrasesExtractor:  94%|█████████▎| 131/140 [00:13<00:00, 11.68it/s]Property 'keyphrases' already exists in node '30881d'. Skipping!\n",
      "Property 'keyphrases' already exists in node '7ce6b8'. Skipping!\n",
      "Applying KeyphrasesExtractor:  95%|█████████▌| 133/140 [00:13<00:00, 10.70it/s]Property 'keyphrases' already exists in node '078310'. Skipping!\n",
      "Property 'keyphrases' already exists in node '59972b'. Skipping!\n",
      "Applying KeyphrasesExtractor:  96%|█████████▋| 135/140 [00:13<00:00,  9.22it/s]Property 'keyphrases' already exists in node '78f8d6'. Skipping!\n",
      "Property 'keyphrases' already exists in node 'a451d5'. Skipping!\n",
      "Applying KeyphrasesExtractor:  98%|█████████▊| 137/140 [00:13<00:00, 10.20it/s]Property 'keyphrases' already exists in node '61758d'. Skipping!\n",
      "Property 'keyphrases' already exists in node 'de3752'. Skipping!\n",
      "Applying KeyphrasesExtractor:  99%|█████████▉| 139/140 [00:14<00:00,  9.42it/s]Property 'keyphrases' already exists in node '907d1f'. Skipping!\n",
      "                                                                               "
     ]
    },
    {
     "name": "stdout",
     "output_type": "stream",
     "text": [
      "변환 적용 후 지식 그래프 상태: KnowledgeGraph(nodes: 140, relationships: 0)\n",
      "\n"
     ]
    },
    {
     "name": "stderr",
     "output_type": "stream",
     "text": [
      "\r"
     ]
    }
   ],
   "source": [
    "# 4. 변환(Transforms) 설정 및 적용\n",
    "# 헤드라인, 키워드 추출 등을 통해 그래프를 풍부하게 만듭니다.\n",
    "headline_extractor = HeadlinesExtractor(llm=generator_llm, max_num=5)  # 문서당 최대 5개 헤드라인 추출\n",
    "headline_splitter = HeadlineSplitter(max_tokens=500)\n",
    "keyphrase_extractor = KeyphrasesExtractor(llm=generator_llm)\n",
    "\n",
    "transforms = [headline_extractor, headline_splitter, keyphrase_extractor]\n",
    "\n",
    "# 변환 적용\n",
    "apply_transforms(kg, transforms=transforms)\n",
    "print(f\"변환 적용 후 지식 그래프 상태: {kg}\\n\")"
   ]
  },
  {
   "cell_type": "code",
   "execution_count": 7,
   "id": "c413919f",
   "metadata": {},
   "outputs": [],
   "source": [
    "# 5. 페르소나 설정\n",
    "# '국가 AI 전략' 문서에 어울리는 가상의 페르소나를 정의합니다.\n",
    "persona_policy_maker = Persona(\n",
    "    name=\"정부 정책 입안자\",\n",
    "    role_description=\"국가 AI 전략의 실행 계획, 예산, 부처 간 협력 방안에 대해 구체적이고 현실적인 질문을 합니다. 정책의 기대 효과와 잠재적 리스크에 관심이 많습니다.\",\n",
    ")\n",
    "\n",
    "persona_ai_researcher = Persona(\n",
    "    name=\"AI 연구원\",\n",
    "    role_description=\"AI 기술 개발, 연구 지원, 인재 양성, 데이터 인프라 구축 등 기술적인 세부 사항에 대해 깊이 있는 질문을 합니다. 최신 기술 동향과 전략의 연관성을 파악하고자 합니다.\",\n",
    ")\n",
    "\n",
    "persona_concerned_citizen = Persona(\n",
    "    name=\"관심 있는 시민\",\n",
    "    role_description=\"AI 기술이 일상 생활과 사회에 미칠 영향, 특히 윤리 문제, 일자리 변화, 개인정보 보호에 대해 우려 섞인 질문을 합니다. 일반인이 이해하기 쉬운 설명을 요구합니다.\",\n",
    ")\n",
    "\n",
    "personas = [persona_policy_maker, persona_ai_researcher, persona_concerned_citizen]"
   ]
  },
  {
   "cell_type": "markdown",
   "id": "3f438549",
   "metadata": {},
   "source": [
    "- `Synthesizer`: 질문과 답변 쌍을 생성하는 엔진입니다. 지식 그래프의 노드와 페르소나 정보를 입력받아, LLM을 활용하여 최종적인 테스트 데이터를 만들어내는 역할을 합니다.\n",
    "\n",
    "- `SingleHopSpecificQuerySynthesizer`: 하나의 노드에서 얻은 구체적인 정보(헤드라인, 키워드 등)를 바탕으로, 해당 노드의 내용만으로 답변할 수 있는 명확한 질문과 정답 쌍을 만드는 역할을 합니다.\n",
    "    - `SingleHop`: 질문에 대한 답을 하나의 문서(또는 하나의 노드) 안에서 찾을 수 있다는 의미\n",
    "    - `MultiHop`: 여러 문서에 흩어져 있는 정보를 종합해야만 답할 수 있는 복잡한 질문\n",
    "    - `SpecificQuery`: 일반적이거나 모호한 질문이 아닌, 구체적인 정보를 묻는 질문을 생성"
   ]
  },
  {
   "cell_type": "code",
   "execution_count": 8,
   "id": "1302df1b",
   "metadata": {},
   "outputs": [],
   "source": [
    "# 6. 신디사이저(Synthesizer)를 이용한 질문 생성 방식 정의\n",
    "# 헤드라인과 키워드를 기반으로 질문을 생성하도록 설정합니다(1:1 비율).\n",
    "query_distribution = [\n",
    "    (\n",
    "        SingleHopSpecificQuerySynthesizer(llm=generator_llm, property_name=\"headlines\"),\n",
    "        0.5,\n",
    "    ),\n",
    "    (\n",
    "        SingleHopSpecificQuerySynthesizer(llm=generator_llm, property_name=\"keyphrases\"),\n",
    "        0.5,\n",
    "    ),\n",
    "]"
   ]
  },
  {
   "cell_type": "code",
   "execution_count": 9,
   "id": "818289f0",
   "metadata": {},
   "outputs": [
    {
     "name": "stderr",
     "output_type": "stream",
     "text": [
      "Generating Scenarios: 100%|██████████| 2/2 [00:32<00:00, 16.05s/it]\n",
      "Generating Samples: 100%|██████████| 10/10 [00:02<00:00,  3.44it/s]\n"
     ]
    }
   ],
   "source": [
    "# 7. 테스트셋 생성기(TestsetGenerator) 초기화 및 생성\n",
    "generator = TestsetGenerator(\n",
    "    llm=generator_llm,\n",
    "    embedding_model=generator_embeddings,\n",
    "    knowledge_graph=kg,\n",
    "    persona_list=personas,\n",
    ")\n",
    "\n",
    "# 테스트셋 생성 실행 (시간이 다소 소요될 수 있습니다)\n",
    "testset_size = 10\n",
    "testset = generator.generate(testset_size=testset_size, query_distribution=query_distribution)"
   ]
  },
  {
   "cell_type": "code",
   "execution_count": null,
   "id": "5d6c981e",
   "metadata": {},
   "outputs": [],
   "source": [
    "# 8. 생성된 테스트셋을 pandas DataFrame으로 변환\n",
    "df = testset.to_pandas()\n",
    "pd.set_option(\"display.max_colwidth\", None)\n",
    "print(df)"
   ]
  },
  {
   "cell_type": "code",
   "execution_count": null,
   "id": "93ff8275",
   "metadata": {},
   "outputs": [],
   "source": [
    "df.to_csv(\"ragas_testset.csv\", index=False)"
   ]
  }
 ],
 "metadata": {
  "kernelspec": {
   "display_name": "Python 3 (ipykernel)",
   "language": "python",
   "name": "python3"
  },
  "language_info": {
   "codemirror_mode": {
    "name": "ipython",
    "version": 3
   },
   "file_extension": ".py",
   "mimetype": "text/x-python",
   "name": "python",
   "nbconvert_exporter": "python",
   "pygments_lexer": "ipython3",
   "version": "3.10.14"
  }
 },
 "nbformat": 4,
 "nbformat_minor": 5
}
