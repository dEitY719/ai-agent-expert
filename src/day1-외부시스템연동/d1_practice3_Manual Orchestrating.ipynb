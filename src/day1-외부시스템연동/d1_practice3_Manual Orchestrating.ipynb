{
 "cells": [
  {
   "cell_type": "markdown",
   "metadata": {
    "id": "manual_intro_md"
   },
   "source": [
    "# [Lv4-Day1-Lab3] The Conductor: Manually Orchestrating a Multi-Step Agent\n",
    "\n",
    "### 실습 목표\n",
    "이전 실습에서 우리는 LLM이 단일 Tool을 사용하는 법(Function Calling)을 배웠습니다. 하지만 실무의 복잡한 문제는 여러 단계의 작업과 여러 번의 Tool 사용을 요구합니다. 이번 시간에는 **Multi-Agent 프레임워크 없이**, 오직 `Function Calling`과 순수 Python 코드(`for` 루프 등)만을 사용하여 여러 단계의 리서치 작업을 **'수동으로 지휘(Orchestrate)'** 해봅니다. 개발자가 직접 '프로젝트 매니저'이자 '지휘자(Conductor)'가 되어보는 것입니다.\n",
    "\n",
    "1.  **Multi-Step 워크플로우 설계:** '계획 수립' -> '반복 실행' -> '결과 종합'의 3단계 워크플로우를 Python 함수로 명확히 분리하여 설계합니다.\n",
    "2.  **수동 상태 관리:** 각 단계의 결과물(계획, 검색 데이터 등)을 Python 변수에 직접 저장하고 다음 단계로 전달하며, 수동 상태 관리의 복잡성을 체험합니다.\n",
    "3.  **CrewAI의 필요성 체감:** 이 실습은 의도적으로 '성공'하도록 설계되었습니다. 하지만 이 성공 뒤에 숨겨진 번거롭고 복잡한 '지휘' 과정을 직접 경험함으로써, **\"왜 우리는 CrewAI와 같은 자동화된 프레임워크가 필요한가?\"** 에 대한 가장 강력하고 명확한 동기를 얻게 될 것입니다."
   ]
  },
  {
   "cell_type": "markdown",
   "metadata": {
    "id": "manual_setup_md"
   },
   "source": [
    "### 0. 사전 준비: 라이브러리 설치 및 API 키 설정\n",
    "이전 실습(`Function Calling & Structured Output.ipynb`)에서 사용했던 모든 라이브러리와 API 키가 필요합니다. 새로운 런타임 환경을 가정하고 다시 설치 및 설정합니다."
   ]
  },
  {
   "cell_type": "code",
   "execution_count": 1,
   "metadata": {
    "id": "manual_install_code"
   },
   "outputs": [],
   "source": [
    "# !pip install google-generativeai langchain_google_genai \"pydantic>=2.0\" instructor langchain-community tavily-python jsonref -q"
   ]
  },
  {
   "cell_type": "markdown",
   "metadata": {
    "id": "TjfJeEDUNFu8"
   },
   "source": [
    "#### API 키 발급 및 설정 안내 (모두 무료)\n",
    "\n",
    "1.  **TAVILY API Key:**\n",
    "    - 검색기능을 제공하는 API 입니다.\n",
    "    - `https://www.tavily.com/` 사이트에 접속하여 가입합니다.\n",
    "    - 로그인 후 대시보드에서 API Key를 확인하고 복사합니다. (무료 플랜으로 실습에 충분한 쿼리가 제공됩니다.)\n"
   ]
  },
  {
   "cell_type": "code",
   "execution_count": 2,
   "metadata": {
    "id": "manual_api_keys_code"
   },
   "outputs": [
    {
     "name": "stdout",
     "output_type": "stream",
     "text": [
      "Google AI Studio API 키를 입력하세요: ········\n",
      "TAVILY_API_KEY 를 입력하세요: ········\n",
      "✅ 모든 API 키가 성공적으로 설정되었습니다.\n"
     ]
    }
   ],
   "source": [
    "import os\n",
    "from getpass import getpass\n",
    "\n",
    "# API 키 설정\n",
    "if \"GOOGLE_API_KEY\" not in os.environ:\n",
    "    os.environ[\"GOOGLE_API_KEY\"] = getpass(\"Google AI Studio API 키를 입력하세요: \")\n",
    "\n",
    "if \"TAVILY_API_KEY\" not in os.environ:\n",
    "    os.environ[\"TAVILY_API_KEY\"] = getpass(\"TAVILY_API_KEY 를 입력하세요: \")\n",
    "\n",
    "print(\"✅ 모든 API 키가 성공적으로 설정되었습니다.\")"
   ]
  },
  {
   "cell_type": "markdown",
   "metadata": {
    "id": "manual_step1_md"
   },
   "source": [
    "### 1단계: '계획 수립' 모듈 구현\n",
    "첫 번째 LLM의 역할은 '계획가(Planner)'입니다. 사용자의 큰 주제를 입력받아, 이를 해결하기 위한 구체적인 세부 질문 리스트를 생성합니다. 이전 실습에서 배운 `instructor`와 `Pydantic`을 사용하여 LLM의 출력을 안정적인 Python 리스트(`List[str]`)로 강제합니다."
   ]
  },
  {
   "cell_type": "code",
   "execution_count": 3,
   "metadata": {
    "id": "manual_step1_code"
   },
   "outputs": [
    {
     "name": "stdout",
     "output_type": "stream",
     "text": [
      "--- 🧠 1단계: 'CrewAI와 LangGraph의 차이점'에 대한 리서치 계획 수립 중... ---\n",
      "✅ 계획 수립 완료!\n",
      "\n",
      "[생성된 리서치 계획]\n",
      "1. CrewAI는 역할 기반 에이전트 협업을, LangGraph는 상태 기반 그래프 아키텍처를 중심으로 설계되었습니다. 이 두 프레임워크의 핵심 아키텍처와 추상화 모델은 어떻게 다르며, 이것이 개발자의 에이전트 워크플로우 설계 방식에 어떤 영향을 미칩니까?\n",
      "2. LangGraph는 상태(State)를 명시적으로 관리하고 순환(Cycle)을 허용하여 복잡한 제어 흐름을 구현하는 데 강점이 있습니다. 반면 CrewAI는 태스크(Task) 기반의 순차적 또는 계층적 프로세스를 중심으로 작동하는데, 두 프레임워크의 상태 관리 메커니즘과 제어 흐름 설계 방식의 근본적인 차이점은 무엇입니까?\n",
      "3. 선형적인 콘텐츠 생성 작업과 같이 명확한 시작과 끝이 있는 프로젝트와, 사용자의 피드백을 반복적으로 반영하며 결과를 개선해야 하는 복잡한 분석 작업이 있다면, 각각의 시나리오에서 CrewAI와 LangGraph의 기술적 장단점은 어떻게 발휘됩니까?\n"
     ]
    }
   ],
   "source": [
    "import instructor\n",
    "from pydantic import BaseModel, Field\n",
    "from typing import List\n",
    "\n",
    "\n",
    "# 1. LLM으로부터 받을 데이터 구조(설계도) 정의\n",
    "class ResearchPlan(BaseModel):\n",
    "    questions: List[str] = Field(description=\"주어진 주제를 해결하기 위한, 서로 다른 관점의 구체적인 세부 질문 3개\")\n",
    "\n",
    "\n",
    "# 2. Instructor 클라이언트 생성\n",
    "client = instructor.from_provider(\n",
    "    \"google/gemini-2.5-pro\",\n",
    "    mode=instructor.Mode.GEMINI_JSON,\n",
    ")\n",
    "\n",
    "\n",
    "# 3. '계획 수립' 함수 정의\n",
    "def create_research_plan(topic: str) -> List[str]:\n",
    "    \"\"\"LLM을 사용하여 리서치 계획(세부 질문 리스트)을 생성합니다.\"\"\"\n",
    "    print(f\"--- 🧠 1단계: '{topic}'에 대한 리서치 계획 수립 중... ---\")\n",
    "    plan = client.messages.create(\n",
    "        messages=[\n",
    "            {\n",
    "                \"role\": \"user\",\n",
    "                \"content\": f\"'{topic}'에 대한 기술 보고서를 작성하려고 합니다. 보고서의 목차가 될 3개의 핵심 세부 질문을 생성해주세요.\",\n",
    "            }\n",
    "        ],\n",
    "        response_model=ResearchPlan,\n",
    "    )\n",
    "    print(\"✅ 계획 수립 완료!\")\n",
    "    return plan.questions\n",
    "\n",
    "\n",
    "# 테스트\n",
    "test_topic = \"CrewAI와 LangGraph의 차이점\"\n",
    "research_plan = create_research_plan(test_topic)\n",
    "print(\"\\n[생성된 리서치 계획]\")\n",
    "for i, q in enumerate(research_plan, 1):\n",
    "    print(f\"{i}. {q}\")"
   ]
  },
  {
   "cell_type": "markdown",
   "metadata": {
    "id": "manual_step2_md"
   },
   "source": [
    "### 2단계: '반복 실행' 모듈 구현\n",
    "이제 우리가 '지휘자'가 되어, 1단계에서 생성된 질문 리스트를 하나씩 순회하며 웹 검색을 수행합니다. 이 과정은 CrewAI의 `Sequential Process`를 우리가 Python의 `for` 루프로 직접 흉내 내는 것입니다."
   ]
  },
  {
   "cell_type": "code",
   "execution_count": 5,
   "metadata": {
    "id": "manual_step2_code"
   },
   "outputs": [
    {
     "name": "stdout",
     "output_type": "stream",
     "text": [
      "\n",
      "--- 🛠️ 2단계: 총 3개의 질문에 대한 반복 리서치 실행 중... ---\n",
      "  (1/3) 'CrewAI는 역할 기반 에이전트 협업을, LangGraph는 상태 기반 그래프 아키텍처를 중심으로 설계되었습니다. 이 두 프레임워크의 핵심 아키텍처와 추상화 모델은 어떻게 다르며, 이것이 개발자의 에이전트 워크플로우 설계 방식에 어떤 영향을 미칩니까?' 검색 중...\n",
      "  (2/3) 'LangGraph는 상태(State)를 명시적으로 관리하고 순환(Cycle)을 허용하여 복잡한 제어 흐름을 구현하는 데 강점이 있습니다. 반면 CrewAI는 태스크(Task) 기반의 순차적 또는 계층적 프로세스를 중심으로 작동하는데, 두 프레임워크의 상태 관리 메커니즘과 제어 흐름 설계 방식의 근본적인 차이점은 무엇입니까?' 검색 중...\n",
      "  (3/3) '선형적인 콘텐츠 생성 작업과 같이 명확한 시작과 끝이 있는 프로젝트와, 사용자의 피드백을 반복적으로 반영하며 결과를 개선해야 하는 복잡한 분석 작업이 있다면, 각각의 시나리오에서 CrewAI와 LangGraph의 기술적 장단점은 어떻게 발휘됩니까?' 검색 중...\n",
      "✅ 모든 리서치 실행 완료!\n",
      "\n",
      "[첫 번째 리서치 결과 (일부)]\n",
      "{'question': 'CrewAI는 역할 기반 에이전트 협업을, LangGraph는 상태 기반 그래프 아키텍처를 중심으로 설계되었습니다. 이 두 프레임워크의 핵심 아키텍처와 추상화 모델은 어떻게 다르며, 이것이 개발자의 에이전트 워크플로우 설계 방식에 어떤 영향을 미칩니까?', 'result': [{'title': '초보자를 위한 2025년 AI 에이전트 프레임워크 가이드: LangGraph ...', 'url': 'https://cyan91.tistory.com/entry/%EC%B4%88%EB%B3%B4%EC%9E%90%EB%A5%BC-%EC%9C%84%ED%95%9C-2025%EB%85%84-AI-%EC%97%90%EC%9D%B4%EC%A0%84%ED%8A%B8-%ED%94%84%EB%A0%88%EC%9E%84%EC%9B%8C%ED%81%AC-%EA%B0%80%EC%9D%B4%EB%93%9C-LangGraph-CrewAI-AutoGen-%EB%B9%84%EA%B5%90-%E...\n"
     ]
    }
   ],
   "source": [
    "from langchain_community.tools.tavily_search import TavilySearchResults\n",
    "\n",
    "# '리서처' 역할을 할 Tool 정의\n",
    "web_search_tool = TavilySearchResults(max_results=3)\n",
    "\n",
    "\n",
    "def execute_research(questions: List[str]) -> List[dict]:\n",
    "    \"\"\"질문 리스트를 받아 각 질문에 대한 웹 검색을 수행하고 결과를 수집합니다.\"\"\"\n",
    "    print(f\"\\n--- 🛠️ 2단계: 총 {len(questions)}개의 질문에 대한 반복 리서치 실행 중... ---\")\n",
    "    all_research_data = []\n",
    "    for i, question in enumerate(questions, 1):\n",
    "        print(f\"  ({i}/{len(questions)}) '{question}' 검색 중...\")\n",
    "        try:\n",
    "            search_result = web_search_tool.invoke(question)\n",
    "            all_research_data.append({\"question\": question, \"result\": search_result})\n",
    "        except Exception as e:\n",
    "            print(f\"  🔴 검색 실패: {e}\")\n",
    "            all_research_data.append({\"question\": question, \"result\": \"검색 중 오류가 발생했습니다.\"})\n",
    "    print(\"✅ 모든 리서치 실행 완료!\")\n",
    "    return all_research_data\n",
    "\n",
    "\n",
    "# 테스트\n",
    "research_results = execute_research(research_plan)\n",
    "print(\"\\n[첫 번째 리서치 결과 (일부)]\")\n",
    "print(str(research_results[0])[:500] + \"...\")"
   ]
  },
  {
   "cell_type": "markdown",
   "metadata": {
    "id": "manual_step3_md"
   },
   "source": [
    "### 3단계: '결과 종합' 모듈 구현\n",
    "마지막으로, '보고서 작성가' 역할을 할 LLM을 호출합니다. 2단계에서 수집한 모든 리서치 결과를 하나의 거대한 컨텍스트로 묶어 LLM에게 전달하고, 최종 보고서 작성을 요청합니다."
   ]
  },
  {
   "cell_type": "code",
   "execution_count": 7,
   "metadata": {
    "id": "manual_step3_code"
   },
   "outputs": [
    {
     "name": "stdout",
     "output_type": "stream",
     "text": [
      "\n",
      "--- 📝 3단계: 최종 보고서 종합 중... ---\n",
      "✅ 최종 보고서 작성 완료!\n",
      "\n",
      "[최종 보고서 (일부)]\n",
      "## CrewAI와 LangGraph의 차이점: 기술 분석 보고서\n",
      "\n",
      "### **개요**\n",
      "\n",
      "본 보고서는 AI 에이전트 개발 프레임워크인 CrewAI와 LangGraph의 핵심적인 차이점을 기술적 관점에서 심층 분석합니다. 제공된 조사 자료에 근거하여, 두 프레임워크는 다중 에이전트 시스템 구축이라는 공통된 목표를 가지지만, 근본적으로 다른 설계 철학과 아키텍처를 채택하고 있음을 확인했습니다.\n",
      "\n",
      "**CrewAI**는 **역할 기반 협업(Role-based Collaboration)** 모델을 중심으로, 각 AI 에이전트에게 명확한 역할과 책임을 부여하여 인간 조직과 유사한 방식으로 작업을 수행하도록 설계되었습니다. 이는 개발자가 '누가 무엇을 할 것인가'에 집중하게 하여 직관적이고 빠른 개발을 가능하게 합니다.\n",
      "\n",
      "반면, **LangGraph**는 **상태 기반 그래프(State-based Graph)** 아키텍처를 기반으로 합니다. 워크플로우를 노드(Node)와 엣지(Edge)로 구성된 그래프로 명시적으로 정의하며, 각 단계의 상태(State)를 체계적으로 관리합니다. 이를 통해 개발자는 '작업이 어떤 조건과 순서로 흘러갈 것인가'를 세밀하게 제어할 수 있어, 복잡하고 비선형적인 프로세스 구현에 강점을 보입니다.\n",
      "\n",
      "본 보고서는 두 프레임워크의 아키텍처, 상태 관리 및 제어 흐름, 그리고 실제 적용 시나리오에서의 장단점을 상세히 비교 분석하여 개발자가 프로젝트의 특성에 맞는 최적의 프레임워크를 선택할 수 있도록 돕는 것을 목표로 합니다.\n",
      "\n",
      "---\n",
      "\n",
      "### **상세 분석**\n",
      "\n",
      "#### **1. 핵심 아키텍처와 추상화 모델의 차이 및 개발 방식에 미치는 영향**\n",
      "\n",
      "두 프레임워크의 가장 근본적인 차이는 아키텍처와 추상화 모델에서 비롯되며, 이는 개발자의 에이전트 워크플로우 설계 방식에 직접적인 영향을 미칩니다.\n",
      "\n",
      "*   **CrewAI: 역할 중심의 고수준 추상화**\n",
      "    *   **핵심 아키텍처:** CrewAI는 `Agent`(역할, 목표, 배경을 가진 행위자), `Task`(수행할 작업), `Crew`(에이전트 팀)라는 고수준의 개념을 중심으로 아키텍처가 구성됩니다. 이는 실제 회사나 팀의 조직 구조를 모방한 역할 기반 설계입니다.\n",
      "    *   **추상화 모델:** 개발자는 각 에이전트의 전문 분야와 역할을 정의하고, 이들에게 작업을 할당합니다. 에이전트 간의 상호작용이나 작업 위임은 프레임워크가 자율적으로 처리하는 경향이 있습니다. 즉, 개발자는 워크플로우의 미시적인 제어 흐름보다는 '어떤 역할을 가진 에이전트가 어떤 작업을 수행해야 하는가'에 집중합니다.\n",
      "    *   **개발 방식에 미치는 영향:** 이 모델은 개발자가 비즈니스 로직에 더 집중하게 만듭니다. \"연구원\", \"작성가\", \"검토자\"와 같은 직관적인 역할을 정의하고 순서대로 작업을 할당하면 되므로, 명확한 역할 구분이 가능한 프로젝트에서 매우 빠르고 간단하게 에이전트 시스템을 구축할 수 있습니다. 개발자는 '팀 관리자'의 관점에서 워크플로우를 설계하게 됩니다.\n",
      "\n",
      "*   **LangGraph: 상태 중심의 저수준 추상화**\n",
      "    *   **핵심 아키텍처:** LangGraph는 `노드(Node)`(작업 단위)와 `엣지(Edge)`(흐름 제어)로 구성된 방향성 그래프(Directed Graph)를 기반으로 합니다. 모든 작업의 중심에는 명시적으로 관리되는 `상태(State)` 객체가 존재하며, 각 노드는 이 상태를 입력받아 수정하고 다음 노드로 전달합니다.\n",
      "    *   **추상화 모델:** 개발자는 워크플로우의 모든 단계를 노드로, 단계 간의 전환 조건을 엣지로 직접 정의해야 합니다. 이는 상태 기계(State Machine)나 فلو차트(Flowchart)를 설계하는 것과 유사합니다.\n",
      "    *   **개발 방식에 미치는 영향:** 이 모델은 개발자에게 워크플로우에 대한 완전하고 세밀한 제어권을 부여합니다. 조건부 분기, 병렬 처리, 반복(순환) 등 복잡한 로직을 명시적으로 구현할 수 있습니다. 개발자는 '시스템 아키텍트'의 관점에서 상태의 흐름과 전환을 정밀하게 설계해야 하며, 이는 더 많은 초기 설정과 코드를 요구하지만 높은 유연성과 강력한 상태 관리를 보장합니다.\n",
      "\n",
      "#### **2. 상태 관리 메커니즘과 제어 흐름 설계 방식의 차이**\n",
      "\n",
      "상태 관리와 제어 흐름은 두 프레임워크의 지향점을 가장 명확하게 보여주는 부분입니다.\n",
      "\n",
      "*   **LangGraph: 명시적이고 중앙 집중적인 상태 관리**\n",
      "    *   **상태 관리:** LangGraph의 핵심은 중앙 집중화된 `상태` 객체입니다. 워크플로우가 진행되는 동안 모든 데이터와 결과는 이 상태 객체에 누적되고 관리됩니다. 각 노드는 이 상태를 읽고 업데이트하는 함수로 볼 수 있습니다. 이러한 방식은 상태 지속성(Persistence), 체크포인팅(Checkpointing), 재현(Replay)과 같은 고급 기능을 가능하게 하여 안정성과 디버깅 용이성을 크게 향상시킵니다.\n",
      "    *   **제어 흐름:** 제어 흐름은 그래프의 엣지를 통해 명시적으로 설계됩니다. 특정 노드의 실행 결과에 따라 다음 노드를 동적으로 결정하는 '조건부 엣지'를 통해 복잡한 분기(Branching)가 가능합니다. 또한, 엣지가 이전 노드를 가리키도록 설계하여 순환(Cycle) 또는 루프(Loop)를 구현할 수 있어, 작업이 특정 조건을 만족할 때까지 반복적으로 수행되도록 만들 수 있습니다. 이는 적응형(Adaptive) 워크플로우 구축에 필수적입니다.\n",
      "\n",
      "*   **CrewAI: 암묵적이고 분산적인 상태 관리**\n",
      "    *   **상태 관리:** CrewAI는 LangGraph처럼 중앙에서 관리하는 단일 상태 객체가 없습니다. 상태는 주로 각 `Task`의 결과물이 다음 `Task`의 입력으로 전달되는 방식으로 암묵적으로 관리됩니다. 조사 자료에서 \"기본 상태 관리\"라고 언급된 것처럼, 상태 관리는 프레임워크의 핵심 기능이라기보다는 작업 흐름의 일부로 다루어집니다.\n",
      "    *   **제어 흐름:** CrewAI의 제어 흐름은 주로 **순차적(Sequential)** 또는 **계층적(Hierarchical)**입니다. 개발자가 정의한 태스크 목록에 따라 순서대로 실행되거나, 매니저 에이전트가 하위 에이전트에게 작업을 위임하는 방식으로 작동합니다. 현재로서는 복잡한 조건부 분기나 동적인 순환 구조를 직접적으로 지원하기보다는, 정해진 프로세스를 따라가는 데 최적화되어 있습니다.\n",
      "\n",
      "#### **3. 구체적 시나리오별 기술적 장단점 분석**\n",
      "\n",
      "##### **시나리오 1: 선형적인 콘텐츠 생성 작업 (예: 블로그 포스트 작성)**\n",
      "이 작업은 '아이디어 구상 → 자료 조사 → 초안 작성 → 검토 및 수정'과 같이 명확한 시작과 끝이 있는 순차적 프로세스입니다.\n",
      "\n",
      "*   **CrewAI**\n",
      "    *   **장점:** 이 시나리오에 매우 적합합니다. 각 단계를 '연구원', '작가', '편집자' 에이전트에게 할당하고 순차적인 태스크로 정의하면 매우 빠르고 직관적으로 워크플로우를 구축할 수 있습니다. 고수준 추상화 덕분에 개발자는 복잡한 상태나 흐름 제어에 신경 쓸 필요 없이 역할 정의에만 집중하면 됩니다.\n",
      "    *   **단점:** 만약 '편집자가 수정을 요청하면 자료 조사 단계로 다시 돌아가야 한다'는 복잡한 피드백 루프를 구현하려면, LangGraph에 비해 설계가 부자연스러워질 수 있습니다.\n",
      "\n",
      "*   **LangGraph**\n",
      "    *   **장점:** 물론 이 작업도 구현 가능하며, 각 단계를 노드로 연결하여 안정적으로 실행할 수 있습니다. 상태 관리 기능 덕분에 각 단계의 결과물을 명확하게 추적하고 저장할 수 있습니다.\n",
      "    *   **단점:** 단순한 선형 작업에 LangGraph를 사용하는 것은 \"과잉 설계(Overkill)\"가 될 수 있습니다. 노드와 엣지, 상태 객체를 모두 명시적으로 정의해야 하므로 CrewAI에 비해 초기 개발 비용과 코드 복잡성이 증가합니다.\n",
      "\n",
      "##### **시나리오 2: 사용자의 피드백을 반복적으로 반영하는 복잡한 분석 작업**\n",
      "이 작업은 초기 분석 후 결과를 사용자에게 제시하고, 사용자의 피드백에 따라 특정 단계를 다시 실행하거나 다른 분석을 추가하는 등 순환적이고 조건적인 흐름이 필요합니다.\n",
      "\n",
      "*   **LangGraph**\n",
      "    *   **장점:** 이 시나리오에서 압도적인 강점을 보입니다. 사용자의 피드백을 조건부 엣지로 처리하여 '결과 승인', '데이터 추가 요청', '분석 방법 변경' 등 다양한 분기를 만들 수 있습니다. 순환(Cycle) 구조를 통해 피드백을 반영한 분석 단계를 원하는 만큼 반복할 수 있습니다. 체크포인팅 기능은 사용자가 개입하는 `Human-in-the-loop` 시나리오를 견고하게 지원합니다.\n",
      "    *   **단점:** CrewAI에 비해 초기 워크플로우 설계의 복잡성이 높습니다.\n",
      "\n",
      "*   **CrewAI**\n",
      "    *   **장점:** 매니저 에이전트를 활용하여 제한적인 `Human-in-the-loop` 시나리오를 구현할 수는 있습니다. 사용자의 피드백을 받아 다음 태스크를 결정하는 로직을 매니저 에이전트에 부여할 수 있습니다.\n",
      "    *   **단점:** 근본적으로 순차/계층적 실행에 맞춰져 있어, 동적이고 복잡한 피드백 루프를 자연스럽게 모델링하기 어렵습니다. 상태가 명시적으로 관리되지 않기 때문에, 여러 번의 반복 과정에서 상태를 일관성 있게 유지하고 추적하는 것이 복잡해질 수 있습니다.\n",
      "\n",
      "---\n",
      "\n",
      "### **최종 결론**\n",
      "\n",
      "CrewAI와 LangGraph는 각기 다른 문제 해결 방식과 철학을 가진 강력한 AI 에이전트 프레임워크입니다.\n",
      "\n",
      "*   **CrewAI**는 **'무엇을(What)'과 '누가(Who)'**에 초점을 맞춘 **고수준 협업 프레임워크**입니다. 역할 분담이 명확하고 프로세스가 비교적 정형화된 작업을 빠르고 직관적으로 자동화하고 싶을 때 최적의 선택입니다. 개발 생산성과 사용 용이성이 중요한 프로젝트에 적합합니다.\n",
      "\n",
      "*   **LangGraph**는 **'어떻게(How)'**에 초점을 맞춘 **저수준 제어 프레임워크**입니다. 상태를 정밀하게 관리하고, 조건에 따라 흐름이 바뀌며, 특정 구간을 반복해야 하는 복잡하고 동적인 워크플로우를 구축해야 할 때 필수적입니다. 유연성, 제어 가능성, 안정성이 중요한 프로덕션 레벨의 애플리케이션에 더 적합합니다.\n",
      "\n",
      "따라서 두 프레임워크 사이의 선택은 우열의 문제가 아니라, 해결하고자 하는 **문제의 본질**에 달려 있습니다. **팀 기반의 정형화된 협업**이 필요하다면 CrewAI를, **상태 기반의 복잡하고 적응형 워크플로우**가 필요하다면 LangGraph를 선택하는 것이 가장 효과적인 접근 방식이 될 것입니다.\n"
     ]
    }
   ],
   "source": [
    "from langchain_google_genai import ChatGoogleGenerativeAI\n",
    "import json\n",
    "\n",
    "# '보고서 작성가' 역할을 할 일반 LLM 초기화\n",
    "writer_llm = ChatGoogleGenerativeAI(model=\"gemini-2.5-pro\", temperature=0.1)\n",
    "\n",
    "\n",
    "def synthesize_report(topic: str, research_data: List[dict]) -> str:\n",
    "    \"\"\"수집된 모든 리서치 데이터를 바탕으로 최종 보고서를 작성합니다.\"\"\"\n",
    "    print(f\"\\n--- 📝 3단계: 최종 보고서 종합 중... ---\")\n",
    "\n",
    "    # LLM에게 전달할 컨텍스트 생성\n",
    "    context_string = \"\"\n",
    "    for item in research_data:\n",
    "        context_string += f\"질문: {item['question']}\\n\"\n",
    "        context_string += f\"조사된 내용: {json.dumps(item['result'], ensure_ascii=False)}\\n\\n\"\n",
    "\n",
    "    prompt = f\"\"\"당신은 전문 기술 분석가입니다.\n",
    "    다음은 '{topic}'이라는 주제에 대해 조사된 자료입니다.\n",
    "\n",
    "    --- 조사 자료 ---\n",
    "    {context_string}\n",
    "    --- 자료 끝 ---\n",
    "\n",
    "    위 자료만을 바탕으로, '{topic}'에 대한 상세하고 구조화된 기술 분석 보고서를 작성해주세요.\n",
    "    보고서는 개요, 각 질문에 대한 상세 분석, 최종 결론의 순서로 구성되어야 합니다.\"\"\"\n",
    "\n",
    "    response = writer_llm.invoke(prompt)\n",
    "    print(\"✅ 최종 보고서 작성 완료!\")\n",
    "    return response.content\n",
    "\n",
    "\n",
    "# 테스트\n",
    "final_report = synthesize_report(test_topic, research_results)\n",
    "print(\"\\n[최종 보고서 (일부)]\")\n",
    "print(final_report)"
   ]
  },
  {
   "cell_type": "markdown",
   "metadata": {
    "id": "crewai_lab3_conclusion_md"
   },
   "source": [
    "### 4. 최종 분석: 무엇이 번거로웠고, 무엇을 자동화할 수 있을까?\n",
    "**성공적으로 Multi-Step 리서치 보고서가 완성되었습니다!** 하지만 그 과정을 되돌아봅시다. 우리는 '지휘자'로서 다음과 같은 번거로운 작업들을 **직접** 수행해야 했습니다.\n",
    "\n",
    "1.  **수동 상태 관리 (Manual State Management):**\n",
    "    - `research_plan`이라는 변수를 만들어 1단계의 결과를 저장했습니다.\n",
    "    - 이 변수를 `execute_research` 함수에 **직접 전달**해야 했습니다.\n",
    "    - `research_results`라는 변수를 만들어 2단계의 결과를 저장하고, 이를 다시 `synthesize_report` 함수에 **직접 전달**해야 했습니다.\n",
    "    - 만약 단계가 10개라면, 10개의 변수를 만들고 수동으로 연결해야 했을 것입니다.\n",
    "\n",
    "2.  **명시적인 제어 흐름 (Explicit Control Flow):**\n",
    "    - 2단계의 반복적인 리서치 작업을 위해 **`for` 루프**를 직접 작성해야 했습니다.\n",
    "    - 각 단계(함수)를 **올바른 순서대로 호출**하는 `main` 로직을 우리가 직접 관리해야 했습니다.\n"
   ]
  },
  {
   "cell_type": "code",
   "execution_count": null,
   "metadata": {
    "id": "T88bs3tJb4Ws"
   },
   "outputs": [],
   "source": []
  }
 ],
 "metadata": {
  "colab": {
   "provenance": []
  },
  "kernelspec": {
   "display_name": "Python 3 (ipykernel)",
   "language": "python",
   "name": "python3"
  },
  "language_info": {
   "codemirror_mode": {
    "name": "ipython",
    "version": 3
   },
   "file_extension": ".py",
   "mimetype": "text/x-python",
   "name": "python",
   "nbconvert_exporter": "python",
   "pygments_lexer": "ipython3",
   "version": "3.10.14"
  }
 },
 "nbformat": 4,
 "nbformat_minor": 1
}
