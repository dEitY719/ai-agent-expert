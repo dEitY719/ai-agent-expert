{
 "cells": [
  {
   "cell_type": "markdown",
   "metadata": {
    "id": "lab1_intro_md"
   },
   "source": [
    "# [Lv4-Day1-Lab1] API 직접 다루기: The Mechanics of Agent Tools\n",
    "\n",
    "### 실습 목표\n",
    "LLM Agent의 강력한 기능인 'Tool 사용'의 내부 동작 원리를 완벽하게 이해하기 위해, 이번 시간에는 LLM 없이 순수 Python 코드만으로 외부 시스템과 직접 소통하는 경험을 합니다. 우리는 Agent의 Tool이 내부적으로 수행하는 모든 기계적인(Mechanical) 단계를 직접 구현해 볼 것입니다.\n",
    "\n",
    "1.  **REST API 직접 호출:** Python의 표준 HTTP 라이브러리인 `requests`를 사용하여, 이론 시간에 배운 REST API(OpenWeatherMap, Finnhub)를 직접 호출합니다.\n",
    "2.  **JSON 응답 파싱:** API로부터 받은 원시(Raw) JSON 데이터를 Python 딕셔너리로 변환하고, 필요한 정보를 정확히 추출하는 방법을 익힙니다.\n",
    "3.  **견고한 Tool 함수 설계:** 에러 핸들링을 포함한 실무 수준의 재사용 가능한 함수(Tool의 원형)를 설계합니다.\n",
    "4.  **Function Calling의 필요성 체감:** 이 모든 수동적인 과정을 직접 경험함으로써, 다음 실습에서 배울 Function Calling이 이 번거로운 작업을 어떻게 자동화하여 우리를 편하게 해주는지 그 가치를 명확히 이해하게 됩니다."
   ]
  },
  {
   "cell_type": "code",
   "execution_count": null,
   "metadata": {},
   "outputs": [],
   "source": []
  },
  {
   "cell_type": "markdown",
   "metadata": {
    "id": "lab1_setup_md"
   },
   "source": [
    "### 0. 사전 준비: 라이브러리 설치 및 API 키 설정\n",
    "이번 실습에서는 외부 API와 통신하기 위한 `requests`, `finnhub-python` 라이브러리를 설치하고, 1일차 이론 시간에 안내된 API 키들을 설정합니다.\n",
    "\n",
    "- `finnhub-python`: 실시간 주식 데이터를 제공하는 Finnhub API를 쉽게 사용하기 위한 Python 클라이언트입니다.\n"
   ]
  },
  {
   "cell_type": "code",
   "execution_count": 4,
   "metadata": {
    "id": "lab1_install_code"
   },
   "outputs": [],
   "source": [
    "# !pip install requests finnhub-python -q"
   ]
  },
  {
   "cell_type": "markdown",
   "metadata": {
    "id": "VGDHVGl8KgTT"
   },
   "source": [
    "### 0.2. API 키 발급 및 보안 설정\n",
    "이번 실습에서는 총 3개의 무료 API 키가 필요합니다.\n",
    "\n",
    "\n",
    "**1. OpenWeatherMap API Key (날씨 정보 Tool용):**\n",
    "- [OpenWeatherMap](https://openweathermap.org/api)에 가입하고 로그인합니다.\n",
    "- API Keys 탭에서 Default 키를 복사합니다.\n",
    "- `OPENWEATHER_API_KEY` 라는 이름으로 저장합니다\n",
    "\n",
    "**2. Finnhub API Key (주식 정보 Tool용):**\n",
    "- [Finnhub](https://finnhub.io/register)에 가입하고 로그인합니다.\n",
    "- 대시보드에서 API Key를 복사합니다. (무료 플랜으로 충분합니다.)\n",
    "- `FINNHUB_API_KEY` 라는 이름으로 저장합니다"
   ]
  },
  {
   "cell_type": "code",
   "execution_count": 5,
   "metadata": {
    "id": "lab1_api_keys_code"
   },
   "outputs": [
    {
     "name": "stdout",
     "output_type": "stream",
     "text": [
      "FINNHUB_API_KEY 키를 입력하세요: ········\n",
      "✅ API 키 설정이 완료되었습니다.\n"
     ]
    }
   ],
   "source": [
    "import os\n",
    "from getpass import getpass\n",
    "\n",
    "# API 키 설정\n",
    "if \"OPENWEATHER_API_KEY\" not in os.environ:\n",
    "    os.environ[\"OPENWEATHER_API_KEY\"] = getpass(\"OPENWEATHER_API_KEY를 입력하세요: \")\n",
    "\n",
    "if \"FINNHUB_API_KEY\" not in os.environ:\n",
    "    os.environ[\"FINNHUB_API_KEY\"] = getpass(\"FINNHUB_API_KEY 키를 입력하세요: \")\n",
    "\n",
    "print(\"✅ API 키 설정이 완료되었습니다.\")"
   ]
  },
  {
   "cell_type": "markdown",
   "metadata": {
    "id": "lab1_owm_intro_md"
   },
   "source": [
    "### 1. OpenWeatherMap API: 단계별 분해\n",
    "첫 번째로, 날씨 API를 호출하는 과정을 단계별로 분해하여 REST API의 각 구성요소가 코드에서 어떻게 구현되는지 확인합니다."
   ]
  },
  {
   "cell_type": "markdown",
   "metadata": {
    "id": "lab1_owm_request_md"
   },
   "source": [
    "#### 1.1. 요청(Request) 만들기 및 보내기\n",
    "이론 시간에 배운 Endpoint, Method(`GET`), Parameters를 조합하여 API 서버로 HTTP 요청을 보냅니다. `requests.get()` 함수가 이 역할을 수행합니다. 실무에서는 요청이 항상 성공하리란 보장이 없으므로, `try-except`와 `response.raise_for_status()`를 사용하여 견고한 에러 핸들링을 구현하는 것이 매우 중요합니다."
   ]
  },
  {
   "cell_type": "code",
   "execution_count": 6,
   "metadata": {
    "id": "lab1_owm_request_code"
   },
   "outputs": [
    {
     "name": "stdout",
     "output_type": "stream",
     "text": [
      "-> http://api.openweathermap.org/data/2.5/weather 로 요청을 보냅니다...\n",
      "<- 응답 성공! (상태 코드: 200)\n",
      "\n",
      "--- 원시 응답 (Raw Text) ---\n",
      "{\"coord\":{\"lon\":126.9778,\"lat\":37.5683},\"weather\":[{\"id\":804,\"main\":\"Clouds\",\"description\":\"온흐림\",\"icon\":\"04d\"}],\"base\":\"stations\",\"main\":{\"temp\":29.59,\"feels_like\":31.72,\"temp_min\":29.59,\"temp_max\":29.59,\"pressure\":1013,\"humidity\":58,\"sea_level\":1013,\"grnd_level\":1003},\"visibility\":10000,\"wind\":{\"speed\":2.5,\"deg\":197,\"gust\":3.73},\"clouds\":{\"all\":100},\"dt\":1756345570,\"sys\":{\"country\":\"KR\",\"sunrise\":1756328333,\"sunset\":1756375703},\"timezone\":32400,\"id\":1835848,\"name\":\"Seoul\",\"cod\":200}\n"
     ]
    }
   ],
   "source": [
    "import requests\n",
    "import json\n",
    "\n",
    "# 1. API 요청에 필요한 구성요소 정의\n",
    "api_key = os.environ[\"OPENWEATHER_API_KEY\"]\n",
    "base_url = \"http://api.openweathermap.org/data/2.5/weather\"\n",
    "city = \"Seoul\"\n",
    "\n",
    "# 2. 파라미터 딕셔너리 생성\n",
    "params = {\n",
    "    \"q\": city,\n",
    "    \"appid\": api_key,\n",
    "    \"units\": \"metric\",  # 섭씨 온도로 받기 위한 파라미터\n",
    "    \"lang\": \"kr\",  # 한국어로 설명 받기 위한 파라미터\n",
    "}\n",
    "\n",
    "try:\n",
    "    # 3. requests 라이브러리를 사용하여 GET 요청 보내기\n",
    "    print(f\"-> {base_url} 로 요청을 보냅니다...\")\n",
    "    response = requests.get(base_url, params=params)\n",
    "\n",
    "    # 4. 응답 상태 코드 확인 (200이 아니면 에러 발생)\n",
    "    response.raise_for_status()\n",
    "\n",
    "    print(f\"<- 응답 성공! (상태 코드: {response.status_code})\")\n",
    "\n",
    "    # 5. 응답의 원시 텍스트(Raw Text) 확인\n",
    "    print(\"\\n--- 원시 응답 (Raw Text) ---\")\n",
    "    print(response.text)\n",
    "\n",
    "except requests.exceptions.HTTPError as http_err:\n",
    "    print(f\"❌ HTTP 오류 발생: {http_err} - API 키가 유효한지 확인하세요.\")\n",
    "except Exception as e:\n",
    "    print(f\"❌ 알 수 없는 오류 발생: {e}\")"
   ]
  },
  {
   "cell_type": "markdown",
   "metadata": {
    "id": "lab1_owm_parse_md"
   },
   "source": [
    "#### 1.2. 응답(Response) 파싱 및 정보 추출\n",
    "API 서버가 반환한 JSON 형식의 텍스트는 그 자체로는 다루기 어렵습니다. `response.json()` 메소드를 사용하여 이 텍스트를 Python의 딕셔너리(Dictionary) 객체로 변환합니다. 변환된 후에는, 우리가 원하는 정보(온도, 날씨 설명 등)를 딕셔너리의 키를 통해 손쉽게 추출할 수 있습니다."
   ]
  },
  {
   "cell_type": "code",
   "execution_count": 7,
   "metadata": {
    "id": "lab1_owm_parse_code"
   },
   "outputs": [
    {
     "name": "stdout",
     "output_type": "stream",
     "text": [
      "--- 파싱된 데이터 (Python Dictionary) ---\n",
      "{\n",
      "  \"coord\": {\n",
      "    \"lon\": 126.9778,\n",
      "    \"lat\": 37.5683\n",
      "  },\n",
      "  \"weather\": [\n",
      "    {\n",
      "      \"id\": 804,\n",
      "      \"main\": \"Clouds\",\n",
      "      \"description\": \"온흐림\",\n",
      "      \"icon\": \"04d\"\n",
      "    }\n",
      "  ],\n",
      "  \"base\": \"stations\",\n",
      "  \"main\": {\n",
      "    \"temp\": 29.59,\n",
      "    \"feels_like\": 31.72,\n",
      "    \"temp_min\": 29.59,\n",
      "    \"temp_max\": 29.59,\n",
      "    \"pressure\": 1013,\n",
      "    \"humidity\": 58,\n",
      "    \"sea_level\": 1013,\n",
      "    \"grnd_level\": 1003\n",
      "  },\n",
      "  \"visibility\": 10000,\n",
      "  \"wind\": {\n",
      "    \"speed\": 2.5,\n",
      "    \"deg\": 197,\n",
      "    \"gust\": 3.73\n",
      "  },\n",
      "  \"clouds\": {\n",
      "    \"all\": 100\n",
      "  },\n",
      "  \"dt\": 1756345570,\n",
      "  \"sys\": {\n",
      "    \"country\": \"KR\",\n",
      "    \"sunrise\": 1756328333,\n",
      "    \"sunset\": 1756375703\n",
      "  },\n",
      "  \"timezone\": 32400,\n",
      "  \"id\": 1835848,\n",
      "  \"name\": \"Seoul\",\n",
      "  \"cod\": 200\n",
      "}\n",
      "\n",
      "--- 최종 추출 정보 ---\n",
      "Seoul의 현재 날씨: 기온은 29.59°C이며, 하늘은 '온흐림' 상태입니다.\n"
     ]
    }
   ],
   "source": [
    "# 이전 단계에서 성공적으로 `response`를 받았다고 가정합니다.\n",
    "if \"response\" in locals() and response.status_code == 200:\n",
    "    # 1. JSON 텍스트를 Python 딕셔너리로 파싱\n",
    "    weather_data = response.json()\n",
    "    print(\"--- 파싱된 데이터 (Python Dictionary) ---\")\n",
    "    # json.dumps를 사용하여 보기 좋게 출력\n",
    "    print(json.dumps(weather_data, indent=2, ensure_ascii=False))\n",
    "\n",
    "    # 2. 필요한 정보 추출\n",
    "    location = weather_data[\"name\"]\n",
    "    temperature = weather_data[\"main\"][\"temp\"]\n",
    "    description = weather_data[\"weather\"][0][\"description\"]\n",
    "\n",
    "    # 3. 추출된 정보를 사용자 친화적인 문장으로 조합\n",
    "    print(\"\\n--- 최종 추출 정보 ---\")\n",
    "    final_message = f\"{location}의 현재 날씨: 기온은 {temperature}°C이며, 하늘은 '{description}' 상태입니다.\"\n",
    "    print(final_message)\n",
    "else:\n",
    "    print(\"이전 단계에서 API 요청이 실패하여 이 셀을 실행할 수 없습니다.\")"
   ]
  },
  {
   "cell_type": "markdown",
   "metadata": {
    "id": "lab1_owm_tool_md"
   },
   "source": [
    "#### 1.3. 재사용 가능한 Tool 함수로 만들기\n",
    "지금까지의 과정을 하나의 함수로 캡슐화하여, 어떤 도시든 이름만 넣으면 날씨 정보를 반환하는 재사용 가능한 함수, 즉 **'Tool의 원형'**을 만듭니다. 이것이 바로 Agent에게 제공될 Tool의 기본 형태입니다."
   ]
  },
  {
   "cell_type": "code",
   "execution_count": 8,
   "metadata": {
    "id": "lab1_owm_tool_code"
   },
   "outputs": [
    {
     "name": "stdout",
     "output_type": "stream",
     "text": [
      "--- Tool 함수 테스트 ---\n",
      "{'status': 'success', 'location': 'Busan', 'temperature': 28.7, 'description': '온흐림'}\n",
      "{'status': 'success', 'location': 'London', 'temperature': 14.77, 'description': '구름조금'}\n"
     ]
    }
   ],
   "source": [
    "def get_current_weather(location: str) -> dict:\n",
    "    \"\"\"OpenWeatherMap API를 호출하여 특정 도시의 날씨 정보를 반환하는 Tool 함수\"\"\"\n",
    "    api_key = os.environ[\"OPENWEATHER_API_KEY\"]\n",
    "    base_url = \"http://api.openweathermap.org/data/2.5/weather\"\n",
    "    params = {\"q\": location, \"appid\": api_key, \"units\": \"metric\", \"lang\": \"kr\"}\n",
    "\n",
    "    try:\n",
    "        response = requests.get(base_url, params=params)\n",
    "        response.raise_for_status()\n",
    "        data = response.json()\n",
    "        return {\n",
    "            \"status\": \"success\",\n",
    "            \"location\": data[\"name\"],\n",
    "            \"temperature\": data[\"main\"][\"temp\"],\n",
    "            \"description\": data[\"weather\"][0][\"description\"],\n",
    "        }\n",
    "    except requests.exceptions.HTTPError as http_err:\n",
    "        return {\"status\": \"error\", \"message\": f\"HTTP 오류: {http_err}\"}\n",
    "    except Exception as e:\n",
    "        return {\"status\": \"error\", \"message\": f\"알 수 없는 오류: {e}\"}\n",
    "\n",
    "\n",
    "# 함수 테스트\n",
    "print(\"--- Tool 함수 테스트 ---\")\n",
    "busan_weather = get_current_weather(\"Busan\")\n",
    "print(busan_weather)\n",
    "\n",
    "london_weather = get_current_weather(\"London\")\n",
    "print(london_weather)"
   ]
  },
  {
   "cell_type": "markdown",
   "metadata": {
    "id": "lab1_finnhub_md"
   },
   "source": [
    "### 2. Finnhub API: 반복 숙달\n",
    "이제 다른 API(Finnhub)에 대해서도 동일한 과정을 반복하며 API 호출 패턴을 완전히 익힙니다. 이번에는 공식 클라이언트 라이브러리(`finnhub-python`)를 사용해 보겠습니다. 이 라이브러리 역시 내부적으로는 `requests`를 사용하여 API를 호출하지만, 개발자가 더 편리하게 사용할 수 있도록 추상화되어 있습니다."
   ]
  },
  {
   "cell_type": "code",
   "execution_count": 9,
   "metadata": {
    "id": "lab1_finnhub_code"
   },
   "outputs": [
    {
     "name": "stdout",
     "output_type": "stream",
     "text": [
      "--- Tool 함수 테스트 ---\n",
      "Apple 주가: {'status': 'success', 'symbol': 'AAPL', 'current_price': 230.49, 'change': 1.18, 'percent_change': 0.5146}\n",
      "삼성전자 주가: {'status': 'error', 'message': \"API 호출 중 오류 발생: FinnhubAPIException(status_code: 403): You don't have access to this resource.\"}\n",
      "유효하지 않은 심볼: {'status': 'error', 'message': \"'INVALID_SYMBOL'에 대한 주가 정보를 찾을 수 없습니다.\"}\n"
     ]
    }
   ],
   "source": [
    "import finnhub\n",
    "\n",
    "\n",
    "def get_stock_price(symbol: str) -> dict:\n",
    "    \"\"\"Finnhub API를 호출하여 특정 주식의 현재가를 반환하는 Tool 함수\"\"\"\n",
    "    try:\n",
    "        finnhub_client = finnhub.Client(api_key=os.environ[\"FINNHUB_API_KEY\"])\n",
    "        quote = finnhub_client.quote(symbol)\n",
    "\n",
    "        # API가 유효하지 않은 심볼에 대해 오류 대신 0을 반환하는 경우가 있음\n",
    "        if quote.get(\"c\") is None or quote.get(\"c\") == 0:\n",
    "            return {\"status\": \"error\", \"message\": f\"'{symbol}'에 대한 주가 정보를 찾을 수 없습니다.\"}\n",
    "\n",
    "        return {\n",
    "            \"status\": \"success\",\n",
    "            \"symbol\": symbol,\n",
    "            \"current_price\": quote[\"c\"],\n",
    "            \"change\": quote[\"d\"],\n",
    "            \"percent_change\": quote[\"dp\"],\n",
    "        }\n",
    "    except Exception as e:\n",
    "        return {\"status\": \"error\", \"message\": f\"API 호출 중 오류 발생: {e}\"}\n",
    "\n",
    "\n",
    "# 함수 테스트\n",
    "print(\"--- Tool 함수 테스트 ---\")\n",
    "apple_stock = get_stock_price(\"AAPL\")\n",
    "print(f\"Apple 주가: {apple_stock}\")\n",
    "\n",
    "samsung_stock = get_stock_price(\"TQQQ\")  # Finnhub는 한국 주식 심볼도 지원 (Ticker.Market)\n",
    "print(f\"삼성전자 주가: {samsung_stock}\")\n",
    "\n",
    "invalid_stock = get_stock_price(\"INVALID_SYMBOL\")\n",
    "print(f\"유효하지 않은 심볼: {invalid_stock}\")"
   ]
  },
  {
   "cell_type": "markdown",
   "metadata": {
    "id": "lab1_conclusion_md"
   },
   "source": [
    "### 3. 결론 및 다음 단계로의 전환\n",
    "\n",
    "**축하합니다!** 여러분은 이제 LLM 없이도 외부 시스템과 소통하는 Agent의 '팔과 다리'를 직접 만들 수 있게 되었습니다.\n",
    "\n",
    "**이번 실습을 통해 우리가 겪은 '불편함'을 되짚어 봅시다:**\n",
    "1.  API 명세서를 직접 읽고 **어떤 Endpoint와 Parameter를 사용해야 할지** 우리가 직접 알아내야 했습니다.\n",
    "2.  API 응답의 복잡한 **JSON 구조를 미리 파악하고**, 어떤 키에 원하는 정보가 들어있는지 직접 코드로 작성해야 했습니다.\n",
    "3.  사용자의 다양한 자연어 질문(\"서울 날씨\", \"seoul weather\", \"서울 기온은?\")을 해석하여 `get_current_weather(\"Seoul\")` 이라는 **정확한 함수 호출로 변환하는 로직**이 없었습니다.\n",
    "\n",
    "**다음 단계 예고:**\n",
    "바로 이 1, 2, 3번의 지루하고 기계적인 작업을 **LLM의 강력한 자연어 이해 능력으로 자동화**하는 것이 바로 **Function Calling** 입니다. Lab 2에서는 오늘 만든 이 Tool 함수들을 그대로 사용하여, LLM이 어떻게 스스로 이 함수들을 호출하고 그 결과를 해석하는지 학습하게 될 것입니다."
   ]
  }
 ],
 "metadata": {
  "colab": {
   "provenance": []
  },
  "kernelspec": {
   "display_name": "Python 3 (ipykernel)",
   "language": "python",
   "name": "python3"
  },
  "language_info": {
   "codemirror_mode": {
    "name": "ipython",
    "version": 3
   },
   "file_extension": ".py",
   "mimetype": "text/x-python",
   "name": "python",
   "nbconvert_exporter": "python",
   "pygments_lexer": "ipython3",
   "version": "3.10.14"
  }
 },
 "nbformat": 4,
 "nbformat_minor": 1
}
