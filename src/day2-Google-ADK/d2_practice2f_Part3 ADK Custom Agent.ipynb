{
 "cells": [
  {
   "cell_type": "markdown",
   "metadata": {
    "id": "intro_md"
   },
   "source": [
    "# [Lv4-Day2-Lab2] Part 3: ADK `Custom Agent` - The Power of Full Control\n",
    "\n",
    "### 실습 목표\n",
    "Part 1에서 `LLM Agent`, Part 2에서 `Workflow Agent`를 경험했습니다. 이제 ADK의 최고 수준인 **`Custom Agent`**를 학습합니다.\n",
    "\n",
    "1. **`Custom Agent` 개념 이해**: `BaseAgent`를 상속하여 Agent의 핵심 동작 로직을 직접 정의\n",
    "2. **`_run_async_impl` 구현**: Agent의 심장인 핵심 메소드를 오버라이딩하여 독자적인 로직 구현\n",
    "3. **상태 관리와 이벤트 시스템**: ADK의 이벤트 기반 아키텍처 이해\n",
    "4. **Agent 유형 선택 기준**: 언제 어떤 Agent를 사용해야 하는지 명확한 기준 확립"
   ]
  },
  {
   "cell_type": "markdown",
   "metadata": {
    "id": "setup_md"
   },
   "source": [
    "## 🚀 1. 환경 설정 및 라이브러리 설치"
   ]
  },
  {
   "cell_type": "code",
   "execution_count": 1,
   "metadata": {
    "id": "install_code"
   },
   "outputs": [],
   "source": [
    "# ADK 설치\n",
    "# !pip install --upgrade --quiet google-adk"
   ]
  },
  {
   "cell_type": "code",
   "execution_count": 2,
   "metadata": {
    "id": "api_setup_code"
   },
   "outputs": [
    {
     "name": "stdout",
     "output_type": "stream",
     "text": [
      "Google AI Studio API 키를 입력하세요: ········\n",
      "✅ API 키가 설정되었습니다.\n"
     ]
    }
   ],
   "source": [
    "import os\n",
    "from getpass import getpass\n",
    "\n",
    "# API 키 설정\n",
    "if \"GOOGLE_API_KEY\" not in os.environ:\n",
    "    api_key = getpass(\"Google AI Studio API 키를 입력하세요: \")\n",
    "    os.environ[\"GOOGLE_API_KEY\"] = api_key\n",
    "    print(\"✅ API 키가 설정되었습니다.\")\n",
    "else:\n",
    "    print(\"✅ 기존 API 키를 사용합니다.\")"
   ]
  },
  {
   "cell_type": "markdown",
   "metadata": {
    "id": "design_md"
   },
   "source": [
    "## 🏗️ 2. Custom Agent 설계: Turn Counter Agent\n",
    "\n",
    "ADK의 `BaseAgent`를 상속하여 대화 턴을 세는 Custom Agent를 만들어보겠습니다. 이 Agent는:\n",
    "1. 대화 턴 수를 세션 상태에 저장\n",
    "2. 매 응답마다 현재 턴 수를 포함\n",
    "3. Tool 사용 기능 유지\n",
    "4. ADK의 이벤트 시스템 활용"
   ]
  },
  {
   "cell_type": "code",
   "execution_count": 7,
   "metadata": {
    "id": "tools_code"
   },
   "outputs": [
    {
     "name": "stdout",
     "output_type": "stream",
     "text": [
      "✅ Tool 함수들이 정의되었습니다.\n"
     ]
    }
   ],
   "source": [
    "from google.adk.agents import BaseAgent\n",
    "from google.adk.agents.invocation_context import InvocationContext\n",
    "from google.adk.events import Event, EventActions\n",
    "from google.genai import types\n",
    "import math\n",
    "from typing import AsyncGenerator, List, Optional, Any\n",
    "from pydantic import Field, PrivateAttr\n",
    "\n",
    "\n",
    "# Tool 함수 정의 (Part 1과 동일)\n",
    "def calculate_circle_area(radius: float) -> dict:\n",
    "    \"\"\"반지름(radius)을 입력받아 원의 넓이를 계산합니다.\n",
    "\n",
    "    Args:\n",
    "        radius (float): 원의 반지름\n",
    "\n",
    "    Returns:\n",
    "        dict: 계산 결과를 포함한 딕셔너리\n",
    "    \"\"\"\n",
    "    if radius <= 0:\n",
    "        return {\"status\": \"error\", \"error_message\": \"반지름은 0보다 큰 값이어야 합니다.\"}\n",
    "\n",
    "    area = math.pi * (radius**2)\n",
    "    return {\"status\": \"success\", \"radius\": radius, \"area\": round(area, 4), \"formula\": \"π × r²\"}\n",
    "\n",
    "\n",
    "def get_conversation_stats() -> dict:\n",
    "    \"\"\"현재 대화 통계를 반환합니다.\n",
    "\n",
    "    Returns:\n",
    "        dict: 대화 관련 통계 정보\n",
    "    \"\"\"\n",
    "    return {\n",
    "        \"agent_type\": \"Custom Turn Counter Agent\",\n",
    "        \"features\": [\"턴 카운팅\", \"상태 관리\", \"이벤트 처리\", \"Tool 통합\"],\n",
    "        \"description\": \"BaseAgent를 상속한 완전한 커스텀 Agent\",\n",
    "    }\n",
    "\n",
    "\n",
    "print(\"✅ Tool 함수들이 정의되었습니다.\")"
   ]
  },
  {
   "cell_type": "code",
   "execution_count": 8,
   "metadata": {
    "id": "custom_agent_code"
   },
   "outputs": [
    {
     "name": "stdout",
     "output_type": "stream",
     "text": [
      "✅ Tool 직접 호출 방식의 TurnCountingAgent가 정의되었습니다.\n",
      "   🔄 기능: 턴 카운팅, 확실한 Tool 실행, 명확한 응답\n"
     ]
    }
   ],
   "source": [
    "# Custom Agent 클래스 정의\n",
    "class TurnCountingAgent(BaseAgent):\n",
    "    \"\"\"대화 턴을 세고 상태를 관리하는 Custom Agent\"\"\"\n",
    "\n",
    "    # 공개 Pydantic 필드 선언\n",
    "    model_name: str = Field(description=\"사용할 LLM 모델명\")\n",
    "    tools: List = Field(default_factory=list, description=\"사용 가능한 도구들\")\n",
    "\n",
    "    # 비공개 속성 선언\n",
    "    _llm: Any = PrivateAttr()\n",
    "\n",
    "    # Pydantic 설정\n",
    "    model_config = {\"arbitrary_types_allowed\": True}\n",
    "\n",
    "    def __init__(self, name: str, model: str, tools=None, **kwargs):\n",
    "        \"\"\"Custom Agent 초기화\"\"\"\n",
    "        super().__init__(name=name, model_name=model, tools=tools or [], **kwargs)\n",
    "\n",
    "        # LLM 클라이언트 초기화\n",
    "        import google.generativeai as genai\n",
    "\n",
    "        genai.configure(api_key=os.environ[\"GOOGLE_API_KEY\"])\n",
    "        self._llm = genai.GenerativeModel(model)\n",
    "\n",
    "    async def _run_async_impl(self, ctx: InvocationContext) -> AsyncGenerator[Event, None]:\n",
    "        \"\"\"Custom Agent의 핵심 실행 로직\"\"\"\n",
    "\n",
    "        # 1. 세션 상태에서 턴 수 관리\n",
    "        current_turn = ctx.session.state.get(\"turn_count\", 0) + 1\n",
    "\n",
    "        print(f\"🔄 [Custom Agent] Turn {current_turn} 시작\")\n",
    "\n",
    "        # 2. 사용자 메시지 추출\n",
    "        user_message = \"\"\n",
    "        if ctx.user_content and ctx.user_content.parts:\n",
    "            user_message = ctx.user_content.parts[0].text\n",
    "\n",
    "        print(f\"   📝 사용자: {user_message}\")\n",
    "\n",
    "        # 3. 상태 업데이트 이벤트 생성\n",
    "        yield Event(author=self.name, actions=EventActions(state_delta={\"turn_count\": current_turn}))\n",
    "\n",
    "        try:\n",
    "            # 4. 사용자 질문 분석하여 적절한 Tool 직접 호출\n",
    "            if \"원의 넓이\" in user_message or \"계산\" in user_message:\n",
    "                # 반지름 추출 시도\n",
    "                import re\n",
    "\n",
    "                radius_match = re.search(r\"반지름.*?(\\d+(?:\\.\\d+)?)\", user_message)\n",
    "                if radius_match:\n",
    "                    radius = float(radius_match.group(1))\n",
    "                    final_text = self._execute_circle_calculation(radius, current_turn)\n",
    "                else:\n",
    "                    final_text = f\"[턴 {current_turn}] 반지름 값을 찾을 수 없습니다. 예: '반지름이 5인 원의 넓이를 계산해주세요.'\"\n",
    "\n",
    "            elif \"대화 통계\" in user_message or \"통계\" in user_message:\n",
    "                final_text = self._execute_conversation_stats(current_turn)\n",
    "\n",
    "            elif \"몇 번\" in user_message and \"대화\" in user_message:\n",
    "                final_text = f\"[턴 {current_turn}] 현재까지 총 {current_turn}번의 대화 턴이 진행되었습니다. 저는 각 대화 턴을 추적하고 있습니다.\"\n",
    "\n",
    "            else:\n",
    "                # 일반적인 질문은 LLM에게 전달\n",
    "                final_text = self._handle_general_question(user_message, current_turn)\n",
    "\n",
    "            # 5. 최종 응답 이벤트 생성\n",
    "            yield Event(author=self.name, content=types.Content(role=\"model\", parts=[types.Part(text=final_text)]))\n",
    "\n",
    "        except Exception as e:\n",
    "            print(f\"   ❌ 오류: {str(e)}\")\n",
    "            error_msg = f\"[턴 {current_turn}] 죄송합니다. 오류가 발생했습니다: {str(e)}\"\n",
    "\n",
    "            yield Event(author=self.name, content=types.Content(role=\"model\", parts=[types.Part(text=error_msg)]))\n",
    "\n",
    "    def _execute_circle_calculation(self, radius: float, current_turn: int) -> str:\n",
    "        \"\"\"원의 넓이 계산 Tool 직접 실행\"\"\"\n",
    "        print(f\"   🛠️ 직접 Tool 호출: calculate_circle_area(radius={radius})\")\n",
    "\n",
    "        try:\n",
    "            result = calculate_circle_area(radius)\n",
    "            print(f\"   ✅ Tool 실행 성공: {result}\")\n",
    "\n",
    "            if result.get(\"status\") == \"success\":\n",
    "                return f\"[턴 {current_turn}] 원의 넓이 계산 결과:\\n- 반지름: {result['radius']}\\n- 넓이: {result['area']}\\n- 공식: {result['formula']}\\n\\n계산이 완료되었습니다!\"\n",
    "            else:\n",
    "                return f\"[턴 {current_turn}] 계산 오류: {result.get('error_message', '알 수 없는 오류')}\"\n",
    "\n",
    "        except Exception as e:\n",
    "            print(f\"   ❌ Tool 실행 오류: {str(e)}\")\n",
    "            return f\"[턴 {current_turn}] Tool 실행 중 오류가 발생했습니다: {str(e)}\"\n",
    "\n",
    "    def _execute_conversation_stats(self, current_turn: int) -> str:\n",
    "        \"\"\"대화 통계 Tool 직접 실행\"\"\"\n",
    "        print(f\"   🛠️ 직접 Tool 호출: get_conversation_stats()\")\n",
    "\n",
    "        try:\n",
    "            result = get_conversation_stats()\n",
    "            print(f\"   ✅ Tool 실행 성공: {result}\")\n",
    "\n",
    "            return f\"\"\"[턴 {current_turn}] 현재 대화 통계:\n",
    "\n",
    "🤖 Agent 정보:\n",
    "- 유형: {result['agent_type']}\n",
    "- 설명: {result['description']}\n",
    "\n",
    "🔧 주요 기능:\n",
    "{chr(10).join(f\"- {feature}\" for feature in result['features'])}\n",
    "\n",
    "📊 현재 상태:\n",
    "- 현재 턴: {current_turn}\n",
    "- 상태: 정상 작동 중\"\"\"\n",
    "\n",
    "        except Exception as e:\n",
    "            print(f\"   ❌ Tool 실행 오류: {str(e)}\")\n",
    "            return f\"[턴 {current_turn}] Tool 실행 중 오류가 발생했습니다: {str(e)}\"\n",
    "\n",
    "    def _handle_general_question(self, user_message: str, current_turn: int) -> str:\n",
    "        \"\"\"일반적인 질문 처리\"\"\"\n",
    "        print(f\"   🧠 일반 질문 처리 중...\")\n",
    "\n",
    "        try:\n",
    "            prompt = f\"\"\"당신은 Turn Counting Agent입니다. 현재 턴 번호는 {current_turn}입니다.\n",
    "\n",
    "사용자 질문: {user_message}\n",
    "\n",
    "간단하고 친절하게 응답하세요. \"[턴 {current_turn}]\"로 시작하세요.\"\"\"\n",
    "\n",
    "            response = self._llm.generate_content(prompt)\n",
    "\n",
    "            if response.candidates and response.candidates[0].content.parts:\n",
    "                text = response.candidates[0].content.parts[0].text\n",
    "                if not text.startswith(f\"[턴 {current_turn}]\"):\n",
    "                    text = f\"[턴 {current_turn}] {text}\"\n",
    "                print(f\"   ✅ 일반 응답 생성 완료\")\n",
    "                return text\n",
    "            else:\n",
    "                return f\"[턴 {current_turn}] 응답을 생성할 수 없습니다.\"\n",
    "\n",
    "        except Exception as e:\n",
    "            print(f\"   ❌ LLM 호출 오류: {str(e)}\")\n",
    "            return f\"[턴 {current_turn}] LLM 호출 중 오류가 발생했습니다: {str(e)}\"\n",
    "\n",
    "\n",
    "print(\"✅ Tool 직접 호출 방식의 TurnCountingAgent가 정의되었습니다.\")\n",
    "print(\"   🔄 기능: 턴 카운팅, 확실한 Tool 실행, 명확한 응답\")"
   ]
  },
  {
   "cell_type": "markdown",
   "metadata": {
    "id": "instance_md"
   },
   "source": [
    "## 🧪 3. Custom Agent 인스턴스 생성 및 테스트"
   ]
  },
  {
   "cell_type": "code",
   "execution_count": 9,
   "metadata": {
    "id": "instance_code"
   },
   "outputs": [
    {
     "name": "stdout",
     "output_type": "stream",
     "text": [
      "✅ Custom Agent와 Runner가 생성되었습니다.\n",
      "   📋 Agent 이름: turn_counter_agent\n",
      "   🛠️ 사용 가능한 Tools: 2개\n"
     ]
    }
   ],
   "source": [
    "from google.adk.runners import Runner\n",
    "from google.adk.sessions import InMemorySessionService\n",
    "import asyncio\n",
    "\n",
    "# Custom Agent 인스턴스 생성\n",
    "custom_agent = TurnCountingAgent(\n",
    "    name=\"turn_counter_agent\",\n",
    "    model=\"gemini-2.0-flash\",\n",
    "    tools=[calculate_circle_area, get_conversation_stats],\n",
    "    description=\"대화 턴을 세고 상태를 관리하는 Custom Agent\",\n",
    ")\n",
    "\n",
    "# Runner와 SessionService 설정\n",
    "session_service = InMemorySessionService()\n",
    "runner = Runner(agent=custom_agent, app_name=\"custom_agent_app\", session_service=session_service)\n",
    "\n",
    "print(\"✅ Custom Agent와 Runner가 생성되었습니다.\")\n",
    "print(f\"   📋 Agent 이름: {custom_agent.name}\")\n",
    "print(f\"   🛠️ 사용 가능한 Tools: {len(custom_agent.tools)}개\")"
   ]
  },
  {
   "cell_type": "code",
   "execution_count": 10,
   "metadata": {
    "id": "test_code"
   },
   "outputs": [
    {
     "name": "stdout",
     "output_type": "stream",
     "text": [
      "🔄 Custom Agent 연속 대화 테스트\n",
      "============================================================\n",
      "📋 세션 생성됨: 5458fdd9-3007-4794-8f71-21da5cb60106\n",
      "\n",
      "1. 👤 사용자: 안녕하세요! 이 Agent에 대해 설명해주세요.\n",
      "🔄 [Custom Agent] Turn 1 시작\n",
      "   📝 사용자: 안녕하세요! 이 Agent에 대해 설명해주세요.\n",
      "   📧 이벤트 수신: author=turn_counter_agent\n",
      "      🔄 상태 변경: {'turn_count': 1}\n",
      "   🧠 일반 질문 처리 중...\n",
      "   ✅ 일반 응답 생성 완료\n",
      "   📧 이벤트 수신: author=turn_counter_agent\n",
      "      💬 텍스트: [턴 1] 안녕하세요! 저는 턴 수를 세는 역할을 합니다. 현재 턴은 1번입니다. 궁금한 ...\n",
      "   🤖 Custom Agent: [턴 1] 안녕하세요! 저는 턴 수를 세는 역할을 합니다. 현재 턴은 1번입니다. 궁금한 점이 있다면 언제든지 물어보세요!\n",
      "\n",
      "--------------------------------------------------\n",
      "\n",
      "2. 👤 사용자: 반지름이 7인 원의 넓이를 계산해주세요.\n",
      "🔄 [Custom Agent] Turn 2 시작\n",
      "   📝 사용자: 반지름이 7인 원의 넓이를 계산해주세요.\n",
      "   📧 이벤트 수신: author=turn_counter_agent\n",
      "      🔄 상태 변경: {'turn_count': 2}\n",
      "   🛠️ 직접 Tool 호출: calculate_circle_area(radius=7.0)\n",
      "   ✅ Tool 실행 성공: {'status': 'success', 'radius': 7.0, 'area': 153.938, 'formula': 'π × r²'}\n",
      "   📧 이벤트 수신: author=turn_counter_agent\n",
      "      💬 텍스트: [턴 2] 원의 넓이 계산 결과:\n",
      "- 반지름: 7.0\n",
      "- 넓이: 153.938\n",
      "- 공식: ...\n",
      "   🤖 Custom Agent: [턴 2] 원의 넓이 계산 결과:\n",
      "- 반지름: 7.0\n",
      "- 넓이: 153.938\n",
      "- 공식: π × r²\n",
      "\n",
      "계산이 완료되었습니다!\n",
      "--------------------------------------------------\n",
      "\n",
      "3. 👤 사용자: 현재 대화 통계를 알려주세요.\n",
      "🔄 [Custom Agent] Turn 3 시작\n",
      "   📝 사용자: 현재 대화 통계를 알려주세요.\n",
      "   📧 이벤트 수신: author=turn_counter_agent\n",
      "      🔄 상태 변경: {'turn_count': 3}\n",
      "   🛠️ 직접 Tool 호출: get_conversation_stats()\n",
      "   ✅ Tool 실행 성공: {'agent_type': 'Custom Turn Counter Agent', 'features': ['턴 카운팅', '상태 관리', '이벤트 처리', 'Tool 통합'], 'description': 'BaseAgent를 상속한 완전한 커스텀 Agent'}\n",
      "   📧 이벤트 수신: author=turn_counter_agent\n",
      "      💬 텍스트: [턴 3] 현재 대화 통계:\n",
      "\n",
      "🤖 Agent 정보:\n",
      "- 유형: Custom Turn Cou...\n",
      "   🤖 Custom Agent: [턴 3] 현재 대화 통계:\n",
      "\n",
      "🤖 Agent 정보:\n",
      "- 유형: Custom Turn Counter Agent\n",
      "- 설명: BaseAgent를 상속한 완전한 커스텀 Agent\n",
      "\n",
      "🔧 주요 기능:\n",
      "- 턴 카운팅\n",
      "- 상태 관리\n",
      "- 이벤트 처리\n",
      "- Tool 통합\n",
      "\n",
      "📊 현재 상태:\n",
      "- 현재 턴: 3\n",
      "- 상태: 정상 작동 중\n",
      "--------------------------------------------------\n",
      "\n",
      "4. 👤 사용자: 지금까지 몇 번의 대화를 했나요?\n",
      "🔄 [Custom Agent] Turn 4 시작\n",
      "   📝 사용자: 지금까지 몇 번의 대화를 했나요?\n",
      "   📧 이벤트 수신: author=turn_counter_agent\n",
      "      🔄 상태 변경: {'turn_count': 4}\n",
      "   📧 이벤트 수신: author=turn_counter_agent\n",
      "      💬 텍스트: [턴 4] 현재까지 총 4번의 대화 턴이 진행되었습니다. 저는 각 대화 턴을 추적하고 있습...\n",
      "   🤖 Custom Agent: [턴 4] 현재까지 총 4번의 대화 턴이 진행되었습니다. 저는 각 대화 턴을 추적하고 있습니다.\n",
      "--------------------------------------------------\n",
      "\n",
      "✅ Custom Agent 테스트 완료!\n"
     ]
    }
   ],
   "source": [
    "async def call_custom_agent_async(agent, runner, session_id, query):\n",
    "    \"\"\"Custom Agent를 비동기적으로 호출하는 함수\"\"\"\n",
    "    content = types.Content(role=\"user\", parts=[types.Part(text=query)])\n",
    "\n",
    "    events = runner.run_async(user_id=\"custom_user\", session_id=session_id, new_message=content)\n",
    "\n",
    "    responses = []\n",
    "\n",
    "    async for event in events:\n",
    "        print(f\"   📧 이벤트 수신: author={event.author}\")\n",
    "\n",
    "        # 컨텐츠가 있는 이벤트 처리\n",
    "        if event.content and event.content.parts:\n",
    "            for part in event.content.parts:\n",
    "                if hasattr(part, \"text\") and part.text:\n",
    "                    responses.append(part.text)\n",
    "                    print(f\"      💬 텍스트: {part.text[:50]}...\")\n",
    "\n",
    "        # 액션이 있는 이벤트 처리 (상태 변경 등)\n",
    "        if event.actions:\n",
    "            if event.actions.state_delta:\n",
    "                print(f\"      🔄 상태 변경: {event.actions.state_delta}\")\n",
    "\n",
    "        # 최종 응답 확인 (여러 조건으로 확인)\n",
    "        if event.is_final_response() or (\n",
    "            event.content\n",
    "            and event.content.parts\n",
    "            and any(hasattr(part, \"text\") and part.text for part in event.content.parts)\n",
    "        ):\n",
    "\n",
    "            # 마지막 텍스트 응답 반환\n",
    "            if responses:\n",
    "                return responses[-1]\n",
    "\n",
    "    # 응답이 수집된 경우 마지막 응답 반환\n",
    "    if responses:\n",
    "        return responses[-1]\n",
    "\n",
    "    return \"응답을 받지 못했습니다.\"\n",
    "\n",
    "\n",
    "# 세션 생성 및 연속 대화 테스트\n",
    "async def test_custom_agent():\n",
    "    \"\"\"Custom Agent 연속 대화 테스트\"\"\"\n",
    "\n",
    "    print(\"🔄 Custom Agent 연속 대화 테스트\")\n",
    "    print(\"=\" * 60)\n",
    "\n",
    "    # 세션 생성\n",
    "    session = await session_service.create_session(app_name=\"custom_agent_app\", user_id=\"custom_user\")\n",
    "\n",
    "    print(f\"📋 세션 생성됨: {session.id}\")\n",
    "\n",
    "    # 테스트 질문들\n",
    "    queries = [\n",
    "        \"안녕하세요! 이 Agent에 대해 설명해주세요.\",\n",
    "        \"반지름이 7인 원의 넓이를 계산해주세요.\",\n",
    "        \"현재 대화 통계를 알려주세요.\",\n",
    "        \"지금까지 몇 번의 대화를 했나요?\",\n",
    "    ]\n",
    "\n",
    "    for i, query in enumerate(queries, 1):\n",
    "        print(f\"\\n{i}. 👤 사용자: {query}\")\n",
    "\n",
    "        try:\n",
    "            response = await call_custom_agent_async(custom_agent, runner, session.id, query)\n",
    "\n",
    "            print(f\"   🤖 Custom Agent: {response}\")\n",
    "            print(\"-\" * 50)\n",
    "\n",
    "        except Exception as e:\n",
    "            print(f\"   ❌ 오류 발생: {str(e)}\")\n",
    "            print(\"-\" * 50)\n",
    "\n",
    "    print(\"\\n✅ Custom Agent 테스트 완료!\")\n",
    "    return session\n",
    "\n",
    "\n",
    "# 테스트 실행\n",
    "test_session = await test_custom_agent()"
   ]
  },
  {
   "cell_type": "markdown",
   "metadata": {
    "id": "comparison_md"
   },
   "source": [
    "## 📊 4. Custom Agent vs 기본 Agent 비교"
   ]
  },
  {
   "cell_type": "code",
   "execution_count": 11,
   "metadata": {
    "id": "comparison_code"
   },
   "outputs": [
    {
     "name": "stdout",
     "output_type": "stream",
     "text": [
      "⚖️ Custom Agent vs 기본 Agent 비교\n",
      "======================================================================\n",
      "📝 테스트 질문: 반지름이 5인 원의 넓이를 계산해주세요.\n",
      "----------------------------------------------------------------------\n",
      "\n",
      "🔸 기본 Agent (LLM Agent):\n"
     ]
    },
    {
     "name": "stderr",
     "output_type": "stream",
     "text": [
      "Warning: there are non-text parts in the response: ['function_call'], returning concatenated text result from text parts. Check the full candidates.content.parts accessor to get the full model response.\n"
     ]
    },
    {
     "name": "stdout",
     "output_type": "stream",
     "text": [
      "   응답: 반지름이 5인 원의 넓이는 78.5398입니다....\n",
      "\n",
      "🔹 Custom Agent (Turn Counter):\n",
      "🔄 [Custom Agent] Turn 5 시작\n",
      "   📝 사용자: 반지름이 5인 원의 넓이를 계산해주세요.\n",
      "   📧 이벤트 수신: author=turn_counter_agent\n",
      "      🔄 상태 변경: {'turn_count': 5}\n",
      "   🛠️ 직접 Tool 호출: calculate_circle_area(radius=5.0)\n",
      "   ✅ Tool 실행 성공: {'status': 'success', 'radius': 5.0, 'area': 78.5398, 'formula': 'π × r²'}\n",
      "   📧 이벤트 수신: author=turn_counter_agent\n",
      "      💬 텍스트: [턴 5] 원의 넓이 계산 결과:\n",
      "- 반지름: 5.0\n",
      "- 넓이: 78.5398\n",
      "- 공식: ...\n",
      "   응답: [턴 5] 원의 넓이 계산 결과:\n",
      "- 반지름: 5.0\n",
      "- 넓이: 78.5398\n",
      "- 공식: π × r²\n",
      "\n",
      "계산이 완료되었습니다!...\n",
      "\n",
      "======================================================================\n"
     ]
    }
   ],
   "source": [
    "from google.adk.agents import Agent\n",
    "\n",
    "# 기본 Agent 생성 (Part 1 스타일)\n",
    "basic_agent = Agent(\n",
    "    name=\"basic_agent\",\n",
    "    model=\"gemini-2.0-flash\",\n",
    "    description=\"기본 ADK Agent\",\n",
    "    instruction=\"사용자의 질문에 간단히 답변하세요.\",\n",
    "    tools=[calculate_circle_area],\n",
    ")\n",
    "\n",
    "# 기본 Agent용 Runner\n",
    "basic_runner = Runner(agent=basic_agent, app_name=\"basic_agent_app\", session_service=session_service)\n",
    "\n",
    "\n",
    "async def call_basic_agent_async(query):\n",
    "    \"\"\"기본 Agent 호출 함수\"\"\"\n",
    "    session = await session_service.create_session(app_name=\"basic_agent_app\", user_id=\"basic_user\")\n",
    "\n",
    "    content = types.Content(role=\"user\", parts=[types.Part(text=query)])\n",
    "    events = basic_runner.run_async(user_id=\"basic_user\", session_id=session.id, new_message=content)\n",
    "\n",
    "    async for event in events:\n",
    "        if event.is_final_response():\n",
    "            return event.content.parts[0].text\n",
    "    return \"응답 없음\"\n",
    "\n",
    "\n",
    "# 비교 테스트\n",
    "async def compare_agents():\n",
    "    \"\"\"Custom Agent vs 기본 Agent 비교\"\"\"\n",
    "\n",
    "    print(\"⚖️ Custom Agent vs 기본 Agent 비교\")\n",
    "    print(\"=\" * 70)\n",
    "\n",
    "    test_query = \"반지름이 5인 원의 넓이를 계산해주세요.\"\n",
    "    print(f\"📝 테스트 질문: {test_query}\")\n",
    "    print(\"-\" * 70)\n",
    "\n",
    "    # 기본 Agent 테스트\n",
    "    print(\"\\n🔸 기본 Agent (LLM Agent):\")\n",
    "    basic_response = await call_basic_agent_async(test_query)\n",
    "    print(f\"   응답: {basic_response[:100]}...\")\n",
    "\n",
    "    # Custom Agent 테스트 (기존 세션 사용)\n",
    "    print(\"\\n🔹 Custom Agent (Turn Counter):\")\n",
    "    custom_response = await call_custom_agent_async(custom_agent, runner, test_session.id, test_query)\n",
    "    print(f\"   응답: {custom_response[:100]}...\")\n",
    "\n",
    "    print(\"\\n\" + \"=\" * 70)\n",
    "\n",
    "\n",
    "await compare_agents()"
   ]
  },
  {
   "cell_type": "markdown",
   "metadata": {
    "id": "state_analysis_md"
   },
   "source": [
    "## 🎯 5. 세션 상태 확인 및 분석"
   ]
  },
  {
   "cell_type": "code",
   "execution_count": 12,
   "metadata": {
    "id": "state_analysis_code"
   },
   "outputs": [
    {
     "name": "stdout",
     "output_type": "stream",
     "text": [
      "🔍 Custom Agent 세션 상태 분석\n",
      "==================================================\n",
      "📋 세션 ID: 5458fdd9-3007-4794-8f71-21da5cb60106\n",
      "👤 사용자 ID: custom_user\n",
      "📱 앱 이름: custom_agent_app\n",
      "\n",
      "🧠 세션 상태:\n",
      "   turn_count: 5\n",
      "\n",
      "🔄 총 대화 턴 수: 5\n",
      "\n",
      "==================================================\n"
     ]
    }
   ],
   "source": [
    "# 세션 상태 분석\n",
    "async def analyze_session_state():\n",
    "    \"\"\"Custom Agent의 세션 상태 분석\"\"\"\n",
    "\n",
    "    print(\"🔍 Custom Agent 세션 상태 분석\")\n",
    "    print(\"=\" * 50)\n",
    "\n",
    "    # 현재 세션 정보 가져오기\n",
    "    session_info = await session_service.get_session(\n",
    "        app_name=\"custom_agent_app\", user_id=\"custom_user\", session_id=test_session.id\n",
    "    )\n",
    "\n",
    "    print(f\"📋 세션 ID: {session_info.id}\")\n",
    "    print(f\"👤 사용자 ID: {session_info.user_id}\")\n",
    "    print(f\"📱 앱 이름: {session_info.app_name}\")\n",
    "\n",
    "    # 상태 정보 출력\n",
    "    print(\"\\n🧠 세션 상태:\")\n",
    "    for key, value in session_info.state.items():\n",
    "        print(f\"   {key}: {value}\")\n",
    "\n",
    "    # 턴 카운터 확인\n",
    "    turn_count = session_info.state.get(\"turn_count\", 0)\n",
    "    print(f\"\\n🔄 총 대화 턴 수: {turn_count}\")\n",
    "\n",
    "    print(\"\\n\" + \"=\" * 50)\n",
    "\n",
    "    return session_info\n",
    "\n",
    "\n",
    "session_analysis = await analyze_session_state()"
   ]
  },
  {
   "cell_type": "code",
   "execution_count": null,
   "metadata": {
    "id": "gf3xSpIwiikE"
   },
   "outputs": [],
   "source": []
  },
  {
   "cell_type": "code",
   "execution_count": null,
   "metadata": {},
   "outputs": [],
   "source": []
  }
 ],
 "metadata": {
  "colab": {
   "provenance": []
  },
  "kernelspec": {
   "display_name": "Python 3 (ipykernel)",
   "language": "python",
   "name": "python3"
  },
  "language_info": {
   "codemirror_mode": {
    "name": "ipython",
    "version": 3
   },
   "file_extension": ".py",
   "mimetype": "text/x-python",
   "name": "python",
   "nbconvert_exporter": "python",
   "pygments_lexer": "ipython3",
   "version": "3.10.14"
  }
 },
 "nbformat": 4,
 "nbformat_minor": 1
}
